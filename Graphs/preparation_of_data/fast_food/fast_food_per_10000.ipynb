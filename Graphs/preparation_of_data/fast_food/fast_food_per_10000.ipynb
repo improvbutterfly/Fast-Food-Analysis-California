{
 "cells": [
  {
   "cell_type": "code",
   "execution_count": 2,
   "metadata": {},
   "outputs": [],
   "source": [
    "# Dependencies\n",
    "import numpy as np\n",
    "import pandas as pd\n",
    "import matplotlib.pyplot as plt"
   ]
  },
  {
   "cell_type": "markdown",
   "metadata": {},
   "source": [
    "# Goal\n",
    "*get fast food data\n",
    "```\n",
    "new_fast_food_combined_data.csv\n",
    "``` \n",
    "is in Analaysis/Data\n",
    "\n",
    "* "
   ]
  },
  {
   "cell_type": "code",
   "execution_count": 4,
   "metadata": {},
   "outputs": [
    {
     "data": {
      "text/html": [
       "<div>\n",
       "<style scoped>\n",
       "    .dataframe tbody tr th:only-of-type {\n",
       "        vertical-align: middle;\n",
       "    }\n",
       "\n",
       "    .dataframe tbody tr th {\n",
       "        vertical-align: top;\n",
       "    }\n",
       "\n",
       "    .dataframe thead th {\n",
       "        text-align: right;\n",
       "    }\n",
       "</style>\n",
       "<table border=\"1\" class=\"dataframe\">\n",
       "  <thead>\n",
       "    <tr style=\"text-align: right;\">\n",
       "      <th></th>\n",
       "      <th>County</th>\n",
       "      <th>Fast-food restaurants, 2011</th>\n",
       "      <th>Fast-food restaurants, 2016</th>\n",
       "      <th>Fast-food restaurants (% change), 2011-16</th>\n",
       "      <th>Fast-food restaurants/10,000 pop, 2011</th>\n",
       "      <th>Fast-food restaurants/10,000 pop, 2016</th>\n",
       "      <th>Fast-food restaurants/1,000 pop (% change), 2011-16</th>\n",
       "    </tr>\n",
       "  </thead>\n",
       "  <tbody>\n",
       "    <tr>\n",
       "      <th>0</th>\n",
       "      <td>Alameda</td>\n",
       "      <td>1090</td>\n",
       "      <td>1293</td>\n",
       "      <td>18.623853</td>\n",
       "      <td>7.11388</td>\n",
       "      <td>7.82102</td>\n",
       "      <td>9.940291</td>\n",
       "    </tr>\n",
       "    <tr>\n",
       "      <th>1</th>\n",
       "      <td>Alpine</td>\n",
       "      <td>2</td>\n",
       "      <td>0</td>\n",
       "      <td>-100.000000</td>\n",
       "      <td>18.29826</td>\n",
       "      <td>0.00000</td>\n",
       "      <td>-100.000000</td>\n",
       "    </tr>\n",
       "    <tr>\n",
       "      <th>2</th>\n",
       "      <td>Amador</td>\n",
       "      <td>12</td>\n",
       "      <td>21</td>\n",
       "      <td>75.000000</td>\n",
       "      <td>3.19668</td>\n",
       "      <td>5.60403</td>\n",
       "      <td>75.308222</td>\n",
       "    </tr>\n",
       "    <tr>\n",
       "      <th>3</th>\n",
       "      <td>Butte</td>\n",
       "      <td>147</td>\n",
       "      <td>158</td>\n",
       "      <td>7.482993</td>\n",
       "      <td>6.68173</td>\n",
       "      <td>6.97495</td>\n",
       "      <td>4.388394</td>\n",
       "    </tr>\n",
       "    <tr>\n",
       "      <th>4</th>\n",
       "      <td>Calaveras</td>\n",
       "      <td>26</td>\n",
       "      <td>30</td>\n",
       "      <td>15.384615</td>\n",
       "      <td>5.75692</td>\n",
       "      <td>6.62032</td>\n",
       "      <td>14.997581</td>\n",
       "    </tr>\n",
       "  </tbody>\n",
       "</table>\n",
       "</div>"
      ],
      "text/plain": [
       "      County  Fast-food restaurants, 2011  Fast-food restaurants, 2016  \\\n",
       "0    Alameda                         1090                         1293   \n",
       "1     Alpine                            2                            0   \n",
       "2     Amador                           12                           21   \n",
       "3      Butte                          147                          158   \n",
       "4  Calaveras                           26                           30   \n",
       "\n",
       "   Fast-food restaurants (% change), 2011-16  \\\n",
       "0                                  18.623853   \n",
       "1                                -100.000000   \n",
       "2                                  75.000000   \n",
       "3                                   7.482993   \n",
       "4                                  15.384615   \n",
       "\n",
       "   Fast-food restaurants/10,000 pop, 2011  \\\n",
       "0                                 7.11388   \n",
       "1                                18.29826   \n",
       "2                                 3.19668   \n",
       "3                                 6.68173   \n",
       "4                                 5.75692   \n",
       "\n",
       "   Fast-food restaurants/10,000 pop, 2016  \\\n",
       "0                                 7.82102   \n",
       "1                                 0.00000   \n",
       "2                                 5.60403   \n",
       "3                                 6.97495   \n",
       "4                                 6.62032   \n",
       "\n",
       "   Fast-food restaurants/1,000 pop (% change), 2011-16  \n",
       "0                                           9.940291    \n",
       "1                                        -100.000000    \n",
       "2                                          75.308222    \n",
       "3                                           4.388394    \n",
       "4                                          14.997581    "
      ]
     },
     "execution_count": 4,
     "metadata": {},
     "output_type": "execute_result"
    }
   ],
   "source": [
    "fast_food_10000_df = pd.read_csv('new_fast_food_combined_data.csv')\n",
    "fast_food_10000_df.head()"
   ]
  },
  {
   "cell_type": "code",
   "execution_count": 5,
   "metadata": {},
   "outputs": [
    {
     "data": {
      "text/plain": [
       "Index(['County', 'Fast-food restaurants, 2011', 'Fast-food restaurants, 2016',\n",
       "       'Fast-food restaurants (% change), 2011-16',\n",
       "       'Fast-food restaurants/10,000 pop, 2011',\n",
       "       'Fast-food restaurants/10,000 pop, 2016',\n",
       "       'Fast-food restaurants/1,000 pop (% change), 2011-16'],\n",
       "      dtype='object')"
      ]
     },
     "execution_count": 5,
     "metadata": {},
     "output_type": "execute_result"
    }
   ],
   "source": [
    "fast_food_10000_df.columns"
   ]
  },
  {
   "cell_type": "code",
   "execution_count": 8,
   "metadata": {},
   "outputs": [],
   "source": [
    "del fast_food_10000_df['Fast-food restaurants, 2011']\n",
    "del fast_food_10000_df['Fast-food restaurants, 2016']\n",
    "del fast_food_10000_df['Fast-food restaurants (% change), 2011-16']"
   ]
  },
  {
   "cell_type": "code",
   "execution_count": 10,
   "metadata": {},
   "outputs": [
    {
     "data": {
      "text/html": [
       "<div>\n",
       "<style scoped>\n",
       "    .dataframe tbody tr th:only-of-type {\n",
       "        vertical-align: middle;\n",
       "    }\n",
       "\n",
       "    .dataframe tbody tr th {\n",
       "        vertical-align: top;\n",
       "    }\n",
       "\n",
       "    .dataframe thead th {\n",
       "        text-align: right;\n",
       "    }\n",
       "</style>\n",
       "<table border=\"1\" class=\"dataframe\">\n",
       "  <thead>\n",
       "    <tr style=\"text-align: right;\">\n",
       "      <th></th>\n",
       "      <th>County</th>\n",
       "      <th>Fast-food restaurants/10,000 pop, 2011</th>\n",
       "      <th>Fast-food restaurants/10,000 pop, 2016</th>\n",
       "      <th>Fast-food restaurants/1,000 pop (% change), 2011-16</th>\n",
       "    </tr>\n",
       "  </thead>\n",
       "  <tbody>\n",
       "    <tr>\n",
       "      <th>0</th>\n",
       "      <td>Alameda</td>\n",
       "      <td>7.11388</td>\n",
       "      <td>7.82102</td>\n",
       "      <td>9.940291</td>\n",
       "    </tr>\n",
       "    <tr>\n",
       "      <th>1</th>\n",
       "      <td>Alpine</td>\n",
       "      <td>18.29826</td>\n",
       "      <td>0.00000</td>\n",
       "      <td>-100.000000</td>\n",
       "    </tr>\n",
       "    <tr>\n",
       "      <th>2</th>\n",
       "      <td>Amador</td>\n",
       "      <td>3.19668</td>\n",
       "      <td>5.60403</td>\n",
       "      <td>75.308222</td>\n",
       "    </tr>\n",
       "    <tr>\n",
       "      <th>3</th>\n",
       "      <td>Butte</td>\n",
       "      <td>6.68173</td>\n",
       "      <td>6.97495</td>\n",
       "      <td>4.388394</td>\n",
       "    </tr>\n",
       "    <tr>\n",
       "      <th>4</th>\n",
       "      <td>Calaveras</td>\n",
       "      <td>5.75692</td>\n",
       "      <td>6.62032</td>\n",
       "      <td>14.997581</td>\n",
       "    </tr>\n",
       "  </tbody>\n",
       "</table>\n",
       "</div>"
      ],
      "text/plain": [
       "      County  Fast-food restaurants/10,000 pop, 2011  \\\n",
       "0    Alameda                                 7.11388   \n",
       "1     Alpine                                18.29826   \n",
       "2     Amador                                 3.19668   \n",
       "3      Butte                                 6.68173   \n",
       "4  Calaveras                                 5.75692   \n",
       "\n",
       "   Fast-food restaurants/10,000 pop, 2016  \\\n",
       "0                                 7.82102   \n",
       "1                                 0.00000   \n",
       "2                                 5.60403   \n",
       "3                                 6.97495   \n",
       "4                                 6.62032   \n",
       "\n",
       "   Fast-food restaurants/1,000 pop (% change), 2011-16  \n",
       "0                                           9.940291    \n",
       "1                                        -100.000000    \n",
       "2                                          75.308222    \n",
       "3                                           4.388394    \n",
       "4                                          14.997581    "
      ]
     },
     "execution_count": 10,
     "metadata": {},
     "output_type": "execute_result"
    }
   ],
   "source": [
    "fast_food_10000_df.head()"
   ]
  },
  {
   "cell_type": "code",
   "execution_count": 13,
   "metadata": {},
   "outputs": [
    {
     "data": {
      "text/plain": [
       "(array([42., 14.,  1.,  1.]),\n",
       " array([ 3.19668 ,  6.972075, 10.74747 , 14.522865, 18.29826 ]),\n",
       " <a list of 4 Patch objects>)"
      ]
     },
     "execution_count": 13,
     "metadata": {},
     "output_type": "execute_result"
    },
    {
     "data": {
      "image/png": "[encoded data removed]",
      "text/plain": [
       "<Figure size 432x288 with 1 Axes>"
      ]
     },
     "metadata": {
      "needs_background": "light"
     },
     "output_type": "display_data"
    }
   ],
   "source": [
    "plt.hist(fast_food_10000_df['Fast-food restaurants/10,000 pop, 2011'], bins=4)"
   ]
  },
  {
   "cell_type": "code",
   "execution_count": 14,
   "metadata": {},
   "outputs": [
    {
     "data": {
      "text/plain": [
       "(array([ 5., 40., 12.,  1.]),\n",
       " array([ 0.     ,  3.72314,  7.44628, 11.16942, 14.89256]),\n",
       " <a list of 4 Patch objects>)"
      ]
     },
     "execution_count": 14,
     "metadata": {},
     "output_type": "execute_result"
    },
    {
     "data": {
      "image/png": "[encoded data removed]",
      "text/plain": [
       "<Figure size 432x288 with 1 Axes>"
      ]
     },
     "metadata": {
      "needs_background": "light"
     },
     "output_type": "display_data"
    }
   ],
   "source": [
    "plt.hist(fast_food_10000_df['Fast-food restaurants/10,000 pop, 2016'], bins=4)"
   ]
  },
  {
   "cell_type": "code",
   "execution_count": 16,
   "metadata": {},
   "outputs": [
    {
     "data": {
      "text/plain": [
       "(array([ 1.,  6., 50.,  1.]),\n",
       " array([-100.       ,  -56.1729445,  -12.345889 ,   31.4811665,\n",
       "          75.308222 ]),\n",
       " <a list of 4 Patch objects>)"
      ]
     },
     "execution_count": 16,
     "metadata": {},
     "output_type": "execute_result"
    },
    {
     "data": {
      "image/png": "[encoded data removed]",
      "text/plain": [
       "<Figure size 432x288 with 1 Axes>"
      ]
     },
     "metadata": {
      "needs_background": "light"
     },
     "output_type": "display_data"
    }
   ],
   "source": [
    "plt.hist(fast_food_10000_df['Fast-food restaurants/1,000 pop (% change), 2011-16'],bins=4)"
   ]
  },
  {
   "cell_type": "code",
   "execution_count": 17,
   "metadata": {},
   "outputs": [
    {
     "data": {
      "text/html": [
       "<div>\n",
       "<style scoped>\n",
       "    .dataframe tbody tr th:only-of-type {\n",
       "        vertical-align: middle;\n",
       "    }\n",
       "\n",
       "    .dataframe tbody tr th {\n",
       "        vertical-align: top;\n",
       "    }\n",
       "\n",
       "    .dataframe thead th {\n",
       "        text-align: right;\n",
       "    }\n",
       "</style>\n",
       "<table border=\"1\" class=\"dataframe\">\n",
       "  <thead>\n",
       "    <tr style=\"text-align: right;\">\n",
       "      <th></th>\n",
       "      <th>County</th>\n",
       "      <th>CountyFIPS</th>\n",
       "    </tr>\n",
       "  </thead>\n",
       "  <tbody>\n",
       "    <tr>\n",
       "      <th>0</th>\n",
       "      <td>Alameda</td>\n",
       "      <td>6001</td>\n",
       "    </tr>\n",
       "    <tr>\n",
       "      <th>1</th>\n",
       "      <td>Alpine</td>\n",
       "      <td>6003</td>\n",
       "    </tr>\n",
       "    <tr>\n",
       "      <th>2</th>\n",
       "      <td>Amador</td>\n",
       "      <td>6005</td>\n",
       "    </tr>\n",
       "    <tr>\n",
       "      <th>3</th>\n",
       "      <td>Butte</td>\n",
       "      <td>6007</td>\n",
       "    </tr>\n",
       "    <tr>\n",
       "      <th>4</th>\n",
       "      <td>Calaveras</td>\n",
       "      <td>6009</td>\n",
       "    </tr>\n",
       "  </tbody>\n",
       "</table>\n",
       "</div>"
      ],
      "text/plain": [
       "      County  CountyFIPS\n",
       "0    Alameda        6001\n",
       "1     Alpine        6003\n",
       "2     Amador        6005\n",
       "3      Butte        6007\n",
       "4  Calaveras        6009"
      ]
     },
     "execution_count": 17,
     "metadata": {},
     "output_type": "execute_result"
    }
   ],
   "source": [
    "#required to merge FIPS data so that the data can be made into a Choropleth\n",
    "fips_df = pd.read_csv('fips.csv')\n",
    "fips_df.head()"
   ]
  },
  {
   "cell_type": "code",
   "execution_count": 19,
   "metadata": {
    "scrolled": true
   },
   "outputs": [
    {
     "data": {
      "text/plain": [
       "58"
      ]
     },
     "execution_count": 19,
     "metadata": {},
     "output_type": "execute_result"
    }
   ],
   "source": [
    "merged_fastfood_df = pd.merge(fips_df, fast_food_10000_df, how='outer', on='County')\n"
   ]
  },
  {
   "cell_type": "code",
   "execution_count": 22,
   "metadata": {},
   "outputs": [
    {
     "data": {
      "text/plain": [
       "Index(['County', 'CountyFIPS', 'Fast-food restaurants/10,000 pop, 2011',\n",
       "       'Fast-food restaurants/10,000 pop, 2016',\n",
       "       'Fast-food restaurants/1,000 pop (% change), 2011-16'],\n",
       "      dtype='object')"
      ]
     },
     "execution_count": 22,
     "metadata": {},
     "output_type": "execute_result"
    }
   ],
   "source": [
    "merged_fastfood_df.columns"
   ]
  },
  {
   "cell_type": "code",
   "execution_count": 23,
   "metadata": {},
   "outputs": [],
   "source": [
    "merged_fastfood_df[\"Fast-food restaurants/10,000 pop, 2011\"] = merged_fastfood_df[\"Fast-food restaurants/10,000 pop, 2011\"].map(\"{:.2f}\".format)\n",
    "merged_fastfood_df[\"Fast-food restaurants/10,000 pop, 2016\"] = merged_fastfood_df[\"Fast-food restaurants/10,000 pop, 2016\"].map(\"{:.2f}\".format)\n",
    "merged_fastfood_df[\"Fast-food restaurants/1,000 pop (% change), 2011-16\"] = merged_fastfood_df[\"Fast-food restaurants/1,000 pop (% change), 2011-16\"].map(\"{:.2f}\".format)"
   ]
  },
  {
   "cell_type": "code",
   "execution_count": 25,
   "metadata": {},
   "outputs": [],
   "source": [
    "merged_fastfood_df = merged_fastfood_df.astype({\"Fast-food restaurants/10,000 pop, 2011\": float, \n",
    "                                                  \"Fast-food restaurants/10,000 pop, 2016\": float,\n",
    "                                                 \"Fast-food restaurants/1,000 pop (% change), 2011-16\": float})"
   ]
  },
  {
   "cell_type": "code",
   "execution_count": 26,
   "metadata": {},
   "outputs": [],
   "source": [
    "merged_fastfood_df.to_csv(\"fast_food_per_10000.csv\", encoding=\"utf-8\", index=False, header=True)"
   ]
  },
  {
   "cell_type": "code",
   "execution_count": null,
   "metadata": {},
   "outputs": [],
   "source": []
  }
 ],
 "metadata": {
  "anaconda-cloud": {},
  "kernelspec": {
   "display_name": "Python 3",
   "language": "python",
   "name": "python3"
  },
  "language_info": {
   "codemirror_mode": {
    "name": "ipython",
    "version": 3
   },
   "file_extension": ".py",
   "mimetype": "text/x-python",
   "name": "python",
   "nbconvert_exporter": "python",
   "pygments_lexer": "ipython3",
   "version": "3.8.5"
  },
  "latex_envs": {
   "LaTeX_envs_menu_present": true,
   "autoclose": false,
   "autocomplete": true,
   "bibliofile": "biblio.bib",
   "cite_by": "apalike",
   "current_citInitial": 1,
   "eqLabelWithNumbers": true,
   "eqNumInitial": 1,
   "hotkeys": {
    "equation": "Ctrl-E",
    "itemize": "Ctrl-I"
   },
   "labels_anchors": false,
   "latex_user_defs": false,
   "report_style_numbering": false,
   "user_envs_cfg": false
  }
 },
 "nbformat": 4,
 "nbformat_minor": 1
}
