{
 "cells": [
  {
   "cell_type": "code",
   "execution_count": 1,
   "metadata": {},
   "outputs": [],
   "source": [
    "# Dependencies\n",
    "import numpy as np\n",
    "import pandas as pd\n",
    "import matplotlib.pyplot as plt"
   ]
  },
  {
   "cell_type": "markdown",
   "metadata": {},
   "source": [
    "#Goal\n",
    "Get obesity data from 2011\n",
    "Use Histograms to separate out the bins\n",
    "is from the Analysis/Data folder"
   ]
  },
  {
   "cell_type": "code",
   "execution_count": 2,
   "metadata": {},
   "outputs": [
    {
     "data": {
      "text/html": [
       "<div>\n",
       "<style scoped>\n",
       "    .dataframe tbody tr th:only-of-type {\n",
       "        vertical-align: middle;\n",
       "    }\n",
       "\n",
       "    .dataframe tbody tr th {\n",
       "        vertical-align: top;\n",
       "    }\n",
       "\n",
       "    .dataframe thead th {\n",
       "        text-align: right;\n",
       "    }\n",
       "</style>\n",
       "<table border=\"1\" class=\"dataframe\">\n",
       "  <thead>\n",
       "    <tr style=\"text-align: right;\">\n",
       "      <th></th>\n",
       "      <th>County</th>\n",
       "      <th>State</th>\n",
       "      <th>CountyFIPS</th>\n",
       "      <th>Percentage</th>\n",
       "      <th>Lower Limit</th>\n",
       "      <th>Upper Limit</th>\n",
       "    </tr>\n",
       "  </thead>\n",
       "  <tbody>\n",
       "    <tr>\n",
       "      <th>0</th>\n",
       "      <td>Alameda County</td>\n",
       "      <td>California</td>\n",
       "      <td>6001</td>\n",
       "      <td>19.2</td>\n",
       "      <td>17.3</td>\n",
       "      <td>21.5</td>\n",
       "    </tr>\n",
       "    <tr>\n",
       "      <th>1</th>\n",
       "      <td>Alpine County</td>\n",
       "      <td>California</td>\n",
       "      <td>6003</td>\n",
       "      <td>20.9</td>\n",
       "      <td>12.3</td>\n",
       "      <td>34.7</td>\n",
       "    </tr>\n",
       "    <tr>\n",
       "      <th>2</th>\n",
       "      <td>Amador County</td>\n",
       "      <td>California</td>\n",
       "      <td>6005</td>\n",
       "      <td>29.8</td>\n",
       "      <td>21.1</td>\n",
       "      <td>40.0</td>\n",
       "    </tr>\n",
       "    <tr>\n",
       "      <th>3</th>\n",
       "      <td>Butte County</td>\n",
       "      <td>California</td>\n",
       "      <td>6007</td>\n",
       "      <td>27.2</td>\n",
       "      <td>22.2</td>\n",
       "      <td>32.7</td>\n",
       "    </tr>\n",
       "    <tr>\n",
       "      <th>4</th>\n",
       "      <td>Calaveras County</td>\n",
       "      <td>California</td>\n",
       "      <td>6009</td>\n",
       "      <td>30.4</td>\n",
       "      <td>21.1</td>\n",
       "      <td>41.2</td>\n",
       "    </tr>\n",
       "    <tr>\n",
       "      <th>5</th>\n",
       "      <td>Colusa County</td>\n",
       "      <td>California</td>\n",
       "      <td>6011</td>\n",
       "      <td>40.6</td>\n",
       "      <td>28.8</td>\n",
       "      <td>53.3</td>\n",
       "    </tr>\n",
       "    <tr>\n",
       "      <th>6</th>\n",
       "      <td>Contra Costa County</td>\n",
       "      <td>California</td>\n",
       "      <td>6013</td>\n",
       "      <td>23.8</td>\n",
       "      <td>21.0</td>\n",
       "      <td>26.7</td>\n",
       "    </tr>\n",
       "    <tr>\n",
       "      <th>7</th>\n",
       "      <td>Del Norte County</td>\n",
       "      <td>California</td>\n",
       "      <td>6015</td>\n",
       "      <td>34.4</td>\n",
       "      <td>22.6</td>\n",
       "      <td>47.4</td>\n",
       "    </tr>\n",
       "    <tr>\n",
       "      <th>8</th>\n",
       "      <td>El Dorado County</td>\n",
       "      <td>California</td>\n",
       "      <td>6017</td>\n",
       "      <td>21.5</td>\n",
       "      <td>16.6</td>\n",
       "      <td>26.8</td>\n",
       "    </tr>\n",
       "    <tr>\n",
       "      <th>9</th>\n",
       "      <td>Fresno County</td>\n",
       "      <td>California</td>\n",
       "      <td>6019</td>\n",
       "      <td>31.4</td>\n",
       "      <td>27.8</td>\n",
       "      <td>35.5</td>\n",
       "    </tr>\n",
       "    <tr>\n",
       "      <th>10</th>\n",
       "      <td>Glenn County</td>\n",
       "      <td>California</td>\n",
       "      <td>6021</td>\n",
       "      <td>32.1</td>\n",
       "      <td>21.9</td>\n",
       "      <td>42.7</td>\n",
       "    </tr>\n",
       "    <tr>\n",
       "      <th>11</th>\n",
       "      <td>Humboldt County</td>\n",
       "      <td>California</td>\n",
       "      <td>6023</td>\n",
       "      <td>28.9</td>\n",
       "      <td>23.0</td>\n",
       "      <td>35.4</td>\n",
       "    </tr>\n",
       "    <tr>\n",
       "      <th>12</th>\n",
       "      <td>Imperial County</td>\n",
       "      <td>California</td>\n",
       "      <td>6025</td>\n",
       "      <td>34.6</td>\n",
       "      <td>26.0</td>\n",
       "      <td>44.8</td>\n",
       "    </tr>\n",
       "    <tr>\n",
       "      <th>13</th>\n",
       "      <td>Inyo County</td>\n",
       "      <td>California</td>\n",
       "      <td>6027</td>\n",
       "      <td>27.4</td>\n",
       "      <td>17.2</td>\n",
       "      <td>40.5</td>\n",
       "    </tr>\n",
       "    <tr>\n",
       "      <th>14</th>\n",
       "      <td>Kern County</td>\n",
       "      <td>California</td>\n",
       "      <td>6029</td>\n",
       "      <td>32.2</td>\n",
       "      <td>27.9</td>\n",
       "      <td>36.4</td>\n",
       "    </tr>\n",
       "    <tr>\n",
       "      <th>15</th>\n",
       "      <td>Kings County</td>\n",
       "      <td>California</td>\n",
       "      <td>6031</td>\n",
       "      <td>29.4</td>\n",
       "      <td>22.3</td>\n",
       "      <td>37.2</td>\n",
       "    </tr>\n",
       "    <tr>\n",
       "      <th>16</th>\n",
       "      <td>Lake County</td>\n",
       "      <td>California</td>\n",
       "      <td>6033</td>\n",
       "      <td>24.5</td>\n",
       "      <td>17.2</td>\n",
       "      <td>34.2</td>\n",
       "    </tr>\n",
       "    <tr>\n",
       "      <th>17</th>\n",
       "      <td>Lassen County</td>\n",
       "      <td>California</td>\n",
       "      <td>6035</td>\n",
       "      <td>40.9</td>\n",
       "      <td>28.0</td>\n",
       "      <td>52.6</td>\n",
       "    </tr>\n",
       "    <tr>\n",
       "      <th>18</th>\n",
       "      <td>Los Angeles County</td>\n",
       "      <td>California</td>\n",
       "      <td>6037</td>\n",
       "      <td>21.4</td>\n",
       "      <td>20.2</td>\n",
       "      <td>22.7</td>\n",
       "    </tr>\n",
       "    <tr>\n",
       "      <th>19</th>\n",
       "      <td>Madera County</td>\n",
       "      <td>California</td>\n",
       "      <td>6039</td>\n",
       "      <td>35.8</td>\n",
       "      <td>27.9</td>\n",
       "      <td>44.0</td>\n",
       "    </tr>\n",
       "  </tbody>\n",
       "</table>\n",
       "</div>"
      ],
      "text/plain": [
       "                 County       State  CountyFIPS  Percentage  Lower Limit  \\\n",
       "0        Alameda County  California        6001        19.2         17.3   \n",
       "1         Alpine County  California        6003        20.9         12.3   \n",
       "2         Amador County  California        6005        29.8         21.1   \n",
       "3          Butte County  California        6007        27.2         22.2   \n",
       "4      Calaveras County  California        6009        30.4         21.1   \n",
       "5         Colusa County  California        6011        40.6         28.8   \n",
       "6   Contra Costa County  California        6013        23.8         21.0   \n",
       "7      Del Norte County  California        6015        34.4         22.6   \n",
       "8      El Dorado County  California        6017        21.5         16.6   \n",
       "9         Fresno County  California        6019        31.4         27.8   \n",
       "10         Glenn County  California        6021        32.1         21.9   \n",
       "11      Humboldt County  California        6023        28.9         23.0   \n",
       "12      Imperial County  California        6025        34.6         26.0   \n",
       "13          Inyo County  California        6027        27.4         17.2   \n",
       "14          Kern County  California        6029        32.2         27.9   \n",
       "15         Kings County  California        6031        29.4         22.3   \n",
       "16          Lake County  California        6033        24.5         17.2   \n",
       "17        Lassen County  California        6035        40.9         28.0   \n",
       "18   Los Angeles County  California        6037        21.4         20.2   \n",
       "19        Madera County  California        6039        35.8         27.9   \n",
       "\n",
       "     Upper Limit  \n",
       "0           21.5  \n",
       "1           34.7  \n",
       "2           40.0  \n",
       "3           32.7  \n",
       "4           41.2  \n",
       "5           53.3  \n",
       "6           26.7  \n",
       "7           47.4  \n",
       "8           26.8  \n",
       "9           35.5  \n",
       "10          42.7  \n",
       "11          35.4  \n",
       "12          44.8  \n",
       "13          40.5  \n",
       "14          36.4  \n",
       "15          37.2  \n",
       "16          34.2  \n",
       "17          52.6  \n",
       "18          22.7  \n",
       "19          44.0  "
      ]
     },
     "execution_count": 2,
     "metadata": {},
     "output_type": "execute_result"
    }
   ],
   "source": [
    "obesity_df = pd.read_csv('obesity2016.csv')\n",
    "obesity_df.head(20)"
   ]
  },
  {
   "cell_type": "code",
   "execution_count": 5,
   "metadata": {},
   "outputs": [
    {
     "data": {
      "text/plain": [
       "58"
      ]
     },
     "execution_count": 5,
     "metadata": {},
     "output_type": "execute_result"
    }
   ],
   "source": [
    "len(obesity_df)"
   ]
  },
  {
   "cell_type": "code",
   "execution_count": 3,
   "metadata": {},
   "outputs": [
    {
     "data": {
      "text/plain": [
       "(array([14., 18., 21.,  5.]),\n",
       " array([15.7, 22. , 28.3, 34.6, 40.9]),\n",
       " <a list of 4 Patch objects>)"
      ]
     },
     "execution_count": 3,
     "metadata": {},
     "output_type": "execute_result"
    },
    {
     "data": {
      "image/png": "[encoded data removed]",
      "text/plain": [
       "<Figure size 432x288 with 1 Axes>"
      ]
     },
     "metadata": {
      "needs_background": "light"
     },
     "output_type": "display_data"
    }
   ],
   "source": [
    "plt.hist(obesity_df[\"Percentage\"], bins=4)"
   ]
  },
  {
   "cell_type": "code",
   "execution_count": null,
   "metadata": {},
   "outputs": [],
   "source": []
  },
  {
   "cell_type": "code",
   "execution_count": null,
   "metadata": {},
   "outputs": [],
   "source": []
  },
  {
   "cell_type": "code",
   "execution_count": 8,
   "metadata": {},
   "outputs": [
    {
     "name": "stdout",
     "output_type": "stream",
     "text": [
      "23.606896551724134\n",
      "23.65\n",
      "3.4088564769345706\n"
     ]
    }
   ],
   "source": [
    "print(obesity_df[\"Percentage\"].mean())\n",
    "print(obesity_df[\"Percentage\"].median())\n",
    "print(obesity_df[\"Percentage\"].std())"
   ]
  },
  {
   "cell_type": "code",
   "execution_count": 6,
   "metadata": {},
   "outputs": [
    {
     "name": "stdout",
     "output_type": "stream",
     "text": [
      "27.120689655172413\n",
      "27.299999999999997\n",
      "5.842006343074499\n"
     ]
    }
   ],
   "source": [
    "print(obesity_df[\"Percentage\"].mean())\n",
    "print(obesity_df[\"Percentage\"].median())\n",
    "print(obesity_df[\"Percentage\"].std())"
   ]
  },
  {
   "cell_type": "code",
   "execution_count": null,
   "metadata": {},
   "outputs": [],
   "source": []
  }
 ],
 "metadata": {
  "anaconda-cloud": {},
  "kernelspec": {
   "display_name": "Python 3",
   "language": "python",
   "name": "python3"
  },
  "language_info": {
   "codemirror_mode": {
    "name": "ipython",
    "version": 3
   },
   "file_extension": ".py",
   "mimetype": "text/x-python",
   "name": "python",
   "nbconvert_exporter": "python",
   "pygments_lexer": "ipython3",
   "version": "3.8.5"
  },
  "latex_envs": {
   "LaTeX_envs_menu_present": true,
   "autoclose": false,
   "autocomplete": true,
   "bibliofile": "biblio.bib",
   "cite_by": "apalike",
   "current_citInitial": 1,
   "eqLabelWithNumbers": true,
   "eqNumInitial": 1,
   "hotkeys": {
    "equation": "Ctrl-E",
    "itemize": "Ctrl-I"
   },
   "labels_anchors": false,
   "latex_user_defs": false,
   "report_style_numbering": false,
   "user_envs_cfg": false
  }
 },
 "nbformat": 4,
 "nbformat_minor": 1
}
