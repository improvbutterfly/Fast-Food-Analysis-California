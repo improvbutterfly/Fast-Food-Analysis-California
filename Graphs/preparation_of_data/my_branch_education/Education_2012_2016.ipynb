{
 "cells": [
  {
   "cell_type": "markdown",
   "metadata": {},
   "source": [
    "what is the goal that you are trying to accomplish here?\n",
    "to get bins of the population data \n"
   ]
  },
  {
   "cell_type": "markdown",
   "metadata": {},
   "source": [
    "*how to split the column into county and into state<br>\n",
    "*then you can filter out by state"
   ]
  },
  {
   "cell_type": "code",
   "execution_count": 3,
   "metadata": {},
   "outputs": [],
   "source": [
    "import pandas as pd"
   ]
  },
  {
   "cell_type": "code",
   "execution_count": 1,
   "metadata": {
    "scrolled": true
   },
   "outputs": [
    {
     "ename": "NameError",
     "evalue": "name 'pd' is not defined",
     "output_type": "error",
     "traceback": [
      "\u001b[0;31m---------------------------------------------------------------------------\u001b[0m",
      "\u001b[0;31mNameError\u001b[0m                                 Traceback (most recent call last)",
      "\u001b[0;32m<ipython-input-1-77f109162023>\u001b[0m in \u001b[0;36m<module>\u001b[0;34m\u001b[0m\n\u001b[0;32m----> 1\u001b[0;31m \u001b[0meducation_2012_df\u001b[0m \u001b[0;34m=\u001b[0m \u001b[0mpd\u001b[0m\u001b[0;34m.\u001b[0m\u001b[0mread_csv\u001b[0m\u001b[0;34m(\u001b[0m\u001b[0;34m'census_education_data_2012.csv'\u001b[0m\u001b[0;34m)\u001b[0m\u001b[0;34m\u001b[0m\u001b[0;34m\u001b[0m\u001b[0m\n\u001b[0m\u001b[1;32m      2\u001b[0m \u001b[0meducation_2012_df\u001b[0m\u001b[0;34m.\u001b[0m\u001b[0mhead\u001b[0m\u001b[0;34m(\u001b[0m\u001b[0;34m)\u001b[0m\u001b[0;34m\u001b[0m\u001b[0;34m\u001b[0m\u001b[0m\n",
      "\u001b[0;31mNameError\u001b[0m: name 'pd' is not defined"
     ]
    }
   ],
   "source": [
    "education_2012_df = pd.read_csv('census_education_data_2012.csv')\n",
    "education_2012_df.head()"
   ]
  },
  {
   "cell_type": "code",
   "execution_count": 2,
   "metadata": {},
   "outputs": [
    {
     "ename": "NameError",
     "evalue": "name 'education_2012_df' is not defined",
     "output_type": "error",
     "traceback": [
      "\u001b[0;31m---------------------------------------------------------------------------\u001b[0m",
      "\u001b[0;31mNameError\u001b[0m                                 Traceback (most recent call last)",
      "\u001b[0;32m<ipython-input-2-0d4e2fa98d73>\u001b[0m in \u001b[0;36m<module>\u001b[0;34m\u001b[0m\n\u001b[0;32m----> 1\u001b[0;31m \u001b[0meducation_2012_df\u001b[0m \u001b[0;34m=\u001b[0m \u001b[0meducation_2012_df\u001b[0m\u001b[0;34m[\u001b[0m\u001b[0;34m[\u001b[0m\u001b[0;34m\"County\"\u001b[0m\u001b[0;34m,\u001b[0m \u001b[0;34m\"College Rate\"\u001b[0m\u001b[0;34m]\u001b[0m\u001b[0;34m]\u001b[0m\u001b[0;34m\u001b[0m\u001b[0;34m\u001b[0m\u001b[0m\n\u001b[0m\u001b[1;32m      2\u001b[0m \u001b[0meducation_2012_df\u001b[0m\u001b[0;34m.\u001b[0m\u001b[0mhead\u001b[0m\u001b[0;34m(\u001b[0m\u001b[0;34m)\u001b[0m\u001b[0;34m\u001b[0m\u001b[0;34m\u001b[0m\u001b[0m\n",
      "\u001b[0;31mNameError\u001b[0m: name 'education_2012_df' is not defined"
     ]
    }
   ],
   "source": [
    "education_2012_df = education_2012_df[[\"County\", \"College Rate\"]]\n",
    "education_2012_df.head()"
   ]
  },
  {
   "cell_type": "code",
   "execution_count": 62,
   "metadata": {},
   "outputs": [
    {
     "data": {
      "text/html": [
       "<div>\n",
       "<style scoped>\n",
       "    .dataframe tbody tr th:only-of-type {\n",
       "        vertical-align: middle;\n",
       "    }\n",
       "\n",
       "    .dataframe tbody tr th {\n",
       "        vertical-align: top;\n",
       "    }\n",
       "\n",
       "    .dataframe thead th {\n",
       "        text-align: right;\n",
       "    }\n",
       "</style>\n",
       "<table border=\"1\" class=\"dataframe\">\n",
       "  <thead>\n",
       "    <tr style=\"text-align: right;\">\n",
       "      <th></th>\n",
       "      <th>County</th>\n",
       "      <th>Population</th>\n",
       "      <th>No Education</th>\n",
       "      <th>High School Education</th>\n",
       "      <th>GED education</th>\n",
       "      <th>Associate Education</th>\n",
       "      <th>Bachelor Education</th>\n",
       "      <th>Masters Education</th>\n",
       "      <th>Professional Education</th>\n",
       "      <th>Doctorate Education</th>\n",
       "      <th>College</th>\n",
       "      <th>College Rate</th>\n",
       "    </tr>\n",
       "  </thead>\n",
       "  <tbody>\n",
       "    <tr>\n",
       "      <th>0</th>\n",
       "      <td>Alameda</td>\n",
       "      <td>1605217.0</td>\n",
       "      <td>26836.0</td>\n",
       "      <td>182207.0</td>\n",
       "      <td>18164.0</td>\n",
       "      <td>74447.0</td>\n",
       "      <td>282754.0</td>\n",
       "      <td>141689.0</td>\n",
       "      <td>32639.0</td>\n",
       "      <td>31512.0</td>\n",
       "      <td>563041.0</td>\n",
       "      <td>35.075694</td>\n",
       "    </tr>\n",
       "    <tr>\n",
       "      <th>1</th>\n",
       "      <td>Alpine</td>\n",
       "      <td>1184.0</td>\n",
       "      <td>5.0</td>\n",
       "      <td>189.0</td>\n",
       "      <td>68.0</td>\n",
       "      <td>46.0</td>\n",
       "      <td>140.0</td>\n",
       "      <td>67.0</td>\n",
       "      <td>8.0</td>\n",
       "      <td>20.0</td>\n",
       "      <td>281.0</td>\n",
       "      <td>23.733108</td>\n",
       "    </tr>\n",
       "    <tr>\n",
       "      <th>2</th>\n",
       "      <td>Amador</td>\n",
       "      <td>36963.0</td>\n",
       "      <td>279.0</td>\n",
       "      <td>6562.0</td>\n",
       "      <td>1131.0</td>\n",
       "      <td>2554.0</td>\n",
       "      <td>4212.0</td>\n",
       "      <td>1192.0</td>\n",
       "      <td>540.0</td>\n",
       "      <td>240.0</td>\n",
       "      <td>8738.0</td>\n",
       "      <td>23.639856</td>\n",
       "    </tr>\n",
       "    <tr>\n",
       "      <th>3</th>\n",
       "      <td>Butte</td>\n",
       "      <td>223877.0</td>\n",
       "      <td>2749.0</td>\n",
       "      <td>27537.0</td>\n",
       "      <td>5238.0</td>\n",
       "      <td>14030.0</td>\n",
       "      <td>25225.0</td>\n",
       "      <td>8002.0</td>\n",
       "      <td>2915.0</td>\n",
       "      <td>1611.0</td>\n",
       "      <td>51783.0</td>\n",
       "      <td>23.130112</td>\n",
       "    </tr>\n",
       "    <tr>\n",
       "      <th>4</th>\n",
       "      <td>Calaveras</td>\n",
       "      <td>44787.0</td>\n",
       "      <td>310.0</td>\n",
       "      <td>8057.0</td>\n",
       "      <td>1158.0</td>\n",
       "      <td>3692.0</td>\n",
       "      <td>4645.0</td>\n",
       "      <td>1550.0</td>\n",
       "      <td>424.0</td>\n",
       "      <td>226.0</td>\n",
       "      <td>10537.0</td>\n",
       "      <td>23.526916</td>\n",
       "    </tr>\n",
       "  </tbody>\n",
       "</table>\n",
       "</div>"
      ],
      "text/plain": [
       "      County  Population  No Education  High School Education  GED education  \\\n",
       "0    Alameda   1605217.0       26836.0               182207.0        18164.0   \n",
       "1     Alpine      1184.0           5.0                  189.0           68.0   \n",
       "2     Amador     36963.0         279.0                 6562.0         1131.0   \n",
       "3      Butte    223877.0        2749.0                27537.0         5238.0   \n",
       "4  Calaveras     44787.0         310.0                 8057.0         1158.0   \n",
       "\n",
       "   Associate Education  Bachelor Education  Masters Education  \\\n",
       "0              74447.0            282754.0           141689.0   \n",
       "1                 46.0               140.0               67.0   \n",
       "2               2554.0              4212.0             1192.0   \n",
       "3              14030.0             25225.0             8002.0   \n",
       "4               3692.0              4645.0             1550.0   \n",
       "\n",
       "   Professional Education  Doctorate Education   College  College Rate  \n",
       "0                 32639.0              31512.0  563041.0     35.075694  \n",
       "1                     8.0                 20.0     281.0     23.733108  \n",
       "2                   540.0                240.0    8738.0     23.639856  \n",
       "3                  2915.0               1611.0   51783.0     23.130112  \n",
       "4                   424.0                226.0   10537.0     23.526916  "
      ]
     },
     "execution_count": 62,
     "metadata": {},
     "output_type": "execute_result"
    }
   ],
   "source": [
    "education_2016_df = pd.read_csv('census_education_data_2016.csv')\n",
    "education_2016_df.head()"
   ]
  },
  {
   "cell_type": "code",
   "execution_count": 63,
   "metadata": {},
   "outputs": [
    {
     "data": {
      "text/html": [
       "<div>\n",
       "<style scoped>\n",
       "    .dataframe tbody tr th:only-of-type {\n",
       "        vertical-align: middle;\n",
       "    }\n",
       "\n",
       "    .dataframe tbody tr th {\n",
       "        vertical-align: top;\n",
       "    }\n",
       "\n",
       "    .dataframe thead th {\n",
       "        text-align: right;\n",
       "    }\n",
       "</style>\n",
       "<table border=\"1\" class=\"dataframe\">\n",
       "  <thead>\n",
       "    <tr style=\"text-align: right;\">\n",
       "      <th></th>\n",
       "      <th>County</th>\n",
       "      <th>College Rate</th>\n",
       "    </tr>\n",
       "  </thead>\n",
       "  <tbody>\n",
       "    <tr>\n",
       "      <th>0</th>\n",
       "      <td>Alameda</td>\n",
       "      <td>35.075694</td>\n",
       "    </tr>\n",
       "    <tr>\n",
       "      <th>1</th>\n",
       "      <td>Alpine</td>\n",
       "      <td>23.733108</td>\n",
       "    </tr>\n",
       "    <tr>\n",
       "      <th>2</th>\n",
       "      <td>Amador</td>\n",
       "      <td>23.639856</td>\n",
       "    </tr>\n",
       "    <tr>\n",
       "      <th>3</th>\n",
       "      <td>Butte</td>\n",
       "      <td>23.130112</td>\n",
       "    </tr>\n",
       "    <tr>\n",
       "      <th>4</th>\n",
       "      <td>Calaveras</td>\n",
       "      <td>23.526916</td>\n",
       "    </tr>\n",
       "  </tbody>\n",
       "</table>\n",
       "</div>"
      ],
      "text/plain": [
       "      County  College Rate\n",
       "0    Alameda     35.075694\n",
       "1     Alpine     23.733108\n",
       "2     Amador     23.639856\n",
       "3      Butte     23.130112\n",
       "4  Calaveras     23.526916"
      ]
     },
     "execution_count": 63,
     "metadata": {},
     "output_type": "execute_result"
    }
   ],
   "source": [
    "education_2016_df = education_2016_df[[\"County\", \"College Rate\"]]\n",
    "education_2016_df.head()"
   ]
  },
  {
   "cell_type": "code",
   "execution_count": 64,
   "metadata": {},
   "outputs": [
    {
     "data": {
      "text/html": [
       "<div>\n",
       "<style scoped>\n",
       "    .dataframe tbody tr th:only-of-type {\n",
       "        vertical-align: middle;\n",
       "    }\n",
       "\n",
       "    .dataframe tbody tr th {\n",
       "        vertical-align: top;\n",
       "    }\n",
       "\n",
       "    .dataframe thead th {\n",
       "        text-align: right;\n",
       "    }\n",
       "</style>\n",
       "<table border=\"1\" class=\"dataframe\">\n",
       "  <thead>\n",
       "    <tr style=\"text-align: right;\">\n",
       "      <th></th>\n",
       "      <th>County</th>\n",
       "      <th>College Rate_x</th>\n",
       "      <th>College Rate_y</th>\n",
       "    </tr>\n",
       "  </thead>\n",
       "  <tbody>\n",
       "    <tr>\n",
       "      <th>0</th>\n",
       "      <td>Alameda</td>\n",
       "      <td>32.422106</td>\n",
       "      <td>35.075694</td>\n",
       "    </tr>\n",
       "    <tr>\n",
       "      <th>1</th>\n",
       "      <td>Alpine</td>\n",
       "      <td>25.313283</td>\n",
       "      <td>23.733108</td>\n",
       "    </tr>\n",
       "    <tr>\n",
       "      <th>2</th>\n",
       "      <td>Amador</td>\n",
       "      <td>21.777354</td>\n",
       "      <td>23.639856</td>\n",
       "    </tr>\n",
       "    <tr>\n",
       "      <th>3</th>\n",
       "      <td>Butte</td>\n",
       "      <td>21.237068</td>\n",
       "      <td>23.130112</td>\n",
       "    </tr>\n",
       "    <tr>\n",
       "      <th>4</th>\n",
       "      <td>Calaveras</td>\n",
       "      <td>22.524007</td>\n",
       "      <td>23.526916</td>\n",
       "    </tr>\n",
       "  </tbody>\n",
       "</table>\n",
       "</div>"
      ],
      "text/plain": [
       "      County  College Rate_x  College Rate_y\n",
       "0    Alameda       32.422106       35.075694\n",
       "1     Alpine       25.313283       23.733108\n",
       "2     Amador       21.777354       23.639856\n",
       "3      Butte       21.237068       23.130112\n",
       "4  Calaveras       22.524007       23.526916"
      ]
     },
     "execution_count": 64,
     "metadata": {},
     "output_type": "execute_result"
    }
   ],
   "source": [
    "merged_education_df = pd.merge(education_2012_df, education_2016_df, how='outer', on='County')\n",
    "merged_education_df.head()"
   ]
  },
  {
   "cell_type": "code",
   "execution_count": 65,
   "metadata": {},
   "outputs": [
    {
     "data": {
      "text/plain": [
       "Index(['County', 'College Rate_x', 'College Rate_y'], dtype='object')"
      ]
     },
     "execution_count": 65,
     "metadata": {},
     "output_type": "execute_result"
    }
   ],
   "source": [
    "merged_education_df.columns"
   ]
  },
  {
   "cell_type": "code",
   "execution_count": 66,
   "metadata": {},
   "outputs": [],
   "source": [
    "merged_education_df = merged_education_df.rename(columns={'College Rate_x':'2012 College Rate',\n",
    "                                                  'College Rate_y':'2016 College Rate'})"
   ]
  },
  {
   "cell_type": "code",
   "execution_count": 67,
   "metadata": {},
   "outputs": [
    {
     "data": {
      "text/html": [
       "<div>\n",
       "<style scoped>\n",
       "    .dataframe tbody tr th:only-of-type {\n",
       "        vertical-align: middle;\n",
       "    }\n",
       "\n",
       "    .dataframe tbody tr th {\n",
       "        vertical-align: top;\n",
       "    }\n",
       "\n",
       "    .dataframe thead th {\n",
       "        text-align: right;\n",
       "    }\n",
       "</style>\n",
       "<table border=\"1\" class=\"dataframe\">\n",
       "  <thead>\n",
       "    <tr style=\"text-align: right;\">\n",
       "      <th></th>\n",
       "      <th>County</th>\n",
       "      <th>2012 College Rate</th>\n",
       "      <th>2016 College Rate</th>\n",
       "    </tr>\n",
       "  </thead>\n",
       "  <tbody>\n",
       "    <tr>\n",
       "      <th>0</th>\n",
       "      <td>Alameda</td>\n",
       "      <td>32.422106</td>\n",
       "      <td>35.075694</td>\n",
       "    </tr>\n",
       "    <tr>\n",
       "      <th>1</th>\n",
       "      <td>Alpine</td>\n",
       "      <td>25.313283</td>\n",
       "      <td>23.733108</td>\n",
       "    </tr>\n",
       "    <tr>\n",
       "      <th>2</th>\n",
       "      <td>Amador</td>\n",
       "      <td>21.777354</td>\n",
       "      <td>23.639856</td>\n",
       "    </tr>\n",
       "    <tr>\n",
       "      <th>3</th>\n",
       "      <td>Butte</td>\n",
       "      <td>21.237068</td>\n",
       "      <td>23.130112</td>\n",
       "    </tr>\n",
       "    <tr>\n",
       "      <th>4</th>\n",
       "      <td>Calaveras</td>\n",
       "      <td>22.524007</td>\n",
       "      <td>23.526916</td>\n",
       "    </tr>\n",
       "  </tbody>\n",
       "</table>\n",
       "</div>"
      ],
      "text/plain": [
       "      County  2012 College Rate  2016 College Rate\n",
       "0    Alameda          32.422106          35.075694\n",
       "1     Alpine          25.313283          23.733108\n",
       "2     Amador          21.777354          23.639856\n",
       "3      Butte          21.237068          23.130112\n",
       "4  Calaveras          22.524007          23.526916"
      ]
     },
     "execution_count": 67,
     "metadata": {},
     "output_type": "execute_result"
    }
   ],
   "source": [
    "merged_education_df.head()"
   ]
  },
  {
   "cell_type": "code",
   "execution_count": 68,
   "metadata": {},
   "outputs": [
    {
     "data": {
      "text/html": [
       "<div>\n",
       "<style scoped>\n",
       "    .dataframe tbody tr th:only-of-type {\n",
       "        vertical-align: middle;\n",
       "    }\n",
       "\n",
       "    .dataframe tbody tr th {\n",
       "        vertical-align: top;\n",
       "    }\n",
       "\n",
       "    .dataframe thead th {\n",
       "        text-align: right;\n",
       "    }\n",
       "</style>\n",
       "<table border=\"1\" class=\"dataframe\">\n",
       "  <thead>\n",
       "    <tr style=\"text-align: right;\">\n",
       "      <th></th>\n",
       "      <th>County</th>\n",
       "      <th>2012 College Rate</th>\n",
       "      <th>2016 College Rate</th>\n",
       "    </tr>\n",
       "  </thead>\n",
       "  <tbody>\n",
       "    <tr>\n",
       "      <th>0</th>\n",
       "      <td>Alameda</td>\n",
       "      <td>32.422106</td>\n",
       "      <td>35.075694</td>\n",
       "    </tr>\n",
       "    <tr>\n",
       "      <th>1</th>\n",
       "      <td>Alpine</td>\n",
       "      <td>25.313283</td>\n",
       "      <td>23.733108</td>\n",
       "    </tr>\n",
       "    <tr>\n",
       "      <th>2</th>\n",
       "      <td>Amador</td>\n",
       "      <td>21.777354</td>\n",
       "      <td>23.639856</td>\n",
       "    </tr>\n",
       "    <tr>\n",
       "      <th>3</th>\n",
       "      <td>Butte</td>\n",
       "      <td>21.237068</td>\n",
       "      <td>23.130112</td>\n",
       "    </tr>\n",
       "    <tr>\n",
       "      <th>4</th>\n",
       "      <td>Calaveras</td>\n",
       "      <td>22.524007</td>\n",
       "      <td>23.526916</td>\n",
       "    </tr>\n",
       "  </tbody>\n",
       "</table>\n",
       "</div>"
      ],
      "text/plain": [
       "      County  2012 College Rate  2016 College Rate\n",
       "0    Alameda          32.422106          35.075694\n",
       "1     Alpine          25.313283          23.733108\n",
       "2     Amador          21.777354          23.639856\n",
       "3      Butte          21.237068          23.130112\n",
       "4  Calaveras          22.524007          23.526916"
      ]
     },
     "execution_count": 68,
     "metadata": {},
     "output_type": "execute_result"
    }
   ],
   "source": [
    "merged_education_df.head()"
   ]
  },
  {
   "cell_type": "code",
   "execution_count": 69,
   "metadata": {},
   "outputs": [],
   "source": [
    "merged_education_df[\"College Rate Change\"] = merged_education_df[\"2016 College Rate\"] - \\\n",
    "    merged_education_df[\"2012 College Rate\"]"
   ]
  },
  {
   "cell_type": "code",
   "execution_count": 70,
   "metadata": {},
   "outputs": [
    {
     "data": {
      "text/html": [
       "<div>\n",
       "<style scoped>\n",
       "    .dataframe tbody tr th:only-of-type {\n",
       "        vertical-align: middle;\n",
       "    }\n",
       "\n",
       "    .dataframe tbody tr th {\n",
       "        vertical-align: top;\n",
       "    }\n",
       "\n",
       "    .dataframe thead th {\n",
       "        text-align: right;\n",
       "    }\n",
       "</style>\n",
       "<table border=\"1\" class=\"dataframe\">\n",
       "  <thead>\n",
       "    <tr style=\"text-align: right;\">\n",
       "      <th></th>\n",
       "      <th>County</th>\n",
       "      <th>2012 College Rate</th>\n",
       "      <th>2016 College Rate</th>\n",
       "      <th>College Rate Change</th>\n",
       "    </tr>\n",
       "  </thead>\n",
       "  <tbody>\n",
       "    <tr>\n",
       "      <th>0</th>\n",
       "      <td>Alameda</td>\n",
       "      <td>32.422106</td>\n",
       "      <td>35.075694</td>\n",
       "      <td>2.653588</td>\n",
       "    </tr>\n",
       "    <tr>\n",
       "      <th>1</th>\n",
       "      <td>Alpine</td>\n",
       "      <td>25.313283</td>\n",
       "      <td>23.733108</td>\n",
       "      <td>-1.580175</td>\n",
       "    </tr>\n",
       "    <tr>\n",
       "      <th>2</th>\n",
       "      <td>Amador</td>\n",
       "      <td>21.777354</td>\n",
       "      <td>23.639856</td>\n",
       "      <td>1.862502</td>\n",
       "    </tr>\n",
       "    <tr>\n",
       "      <th>3</th>\n",
       "      <td>Butte</td>\n",
       "      <td>21.237068</td>\n",
       "      <td>23.130112</td>\n",
       "      <td>1.893043</td>\n",
       "    </tr>\n",
       "    <tr>\n",
       "      <th>4</th>\n",
       "      <td>Calaveras</td>\n",
       "      <td>22.524007</td>\n",
       "      <td>23.526916</td>\n",
       "      <td>1.002909</td>\n",
       "    </tr>\n",
       "  </tbody>\n",
       "</table>\n",
       "</div>"
      ],
      "text/plain": [
       "      County  2012 College Rate  2016 College Rate  College Rate Change\n",
       "0    Alameda          32.422106          35.075694             2.653588\n",
       "1     Alpine          25.313283          23.733108            -1.580175\n",
       "2     Amador          21.777354          23.639856             1.862502\n",
       "3      Butte          21.237068          23.130112             1.893043\n",
       "4  Calaveras          22.524007          23.526916             1.002909"
      ]
     },
     "execution_count": 70,
     "metadata": {},
     "output_type": "execute_result"
    }
   ],
   "source": [
    "merged_education_df.head()"
   ]
  },
  {
   "cell_type": "code",
   "execution_count": 71,
   "metadata": {},
   "outputs": [
    {
     "data": {
      "text/plain": [
       "(array([21., 24., 11.,  2.]),\n",
       " array([11.06950912, 19.47591794, 27.88232675, 36.28873557, 44.69514439]),\n",
       " <a list of 4 Patch objects>)"
      ]
     },
     "execution_count": 71,
     "metadata": {},
     "output_type": "execute_result"
    },
    {
     "data": {
      "image/png": "[encoded data removed]",
      "text/plain": [
       "<Figure size 432x288 with 1 Axes>"
      ]
     },
     "metadata": {
      "needs_background": "light"
     },
     "output_type": "display_data"
    }
   ],
   "source": [
    "plt.hist(merged_education_df[\"2012 College Rate\"], bins=4)"
   ]
  },
  {
   "cell_type": "code",
   "execution_count": 72,
   "metadata": {},
   "outputs": [
    {
     "name": "stdout",
     "output_type": "stream",
     "text": [
      "<class 'pandas.core.frame.DataFrame'>\n",
      "Int64Index: 58 entries, 0 to 57\n",
      "Data columns (total 4 columns):\n",
      " #   Column               Non-Null Count  Dtype  \n",
      "---  ------               --------------  -----  \n",
      " 0   County               58 non-null     object \n",
      " 1   2012 College Rate    58 non-null     float64\n",
      " 2   2016 College Rate    58 non-null     float64\n",
      " 3   College Rate Change  58 non-null     float64\n",
      "dtypes: float64(3), object(1)\n",
      "memory usage: 2.3+ KB\n"
     ]
    }
   ],
   "source": [
    "merged_education_df.info()"
   ]
  },
  {
   "cell_type": "code",
   "execution_count": 73,
   "metadata": {},
   "outputs": [],
   "source": [
    "merged_education_df[\"2012 College Rate\"] = merged_education_df[\"2012 College Rate\"].map(\"{:.2f}\".format)\n",
    "merged_education_df[\"2016 College Rate\"] = merged_education_df[\"2016 College Rate\"].map(\"{:.2f}\".format)\n",
    "merged_education_df[\"College Rate Change\"] = merged_education_df[\"College Rate Change\"].map(\"{:.2f}\".format)"
   ]
  },
  {
   "cell_type": "code",
   "execution_count": 74,
   "metadata": {},
   "outputs": [
    {
     "name": "stdout",
     "output_type": "stream",
     "text": [
      "<class 'pandas.core.frame.DataFrame'>\n",
      "Int64Index: 58 entries, 0 to 57\n",
      "Data columns (total 4 columns):\n",
      " #   Column               Non-Null Count  Dtype \n",
      "---  ------               --------------  ----- \n",
      " 0   County               58 non-null     object\n",
      " 1   2012 College Rate    58 non-null     object\n",
      " 2   2016 College Rate    58 non-null     object\n",
      " 3   College Rate Change  58 non-null     object\n",
      "dtypes: object(4)\n",
      "memory usage: 2.3+ KB\n"
     ]
    }
   ],
   "source": [
    "merged_education_df.info()"
   ]
  },
  {
   "cell_type": "code",
   "execution_count": 75,
   "metadata": {},
   "outputs": [],
   "source": [
    "merged_education_df = merged_education_df.astype({\"2012 College Rate\": float, \n",
    "                                                  \"2016 College Rate\": float,\n",
    "                                                 \"College Rate Change\": float})"
   ]
  },
  {
   "cell_type": "code",
   "execution_count": 76,
   "metadata": {},
   "outputs": [
    {
     "name": "stdout",
     "output_type": "stream",
     "text": [
      "<class 'pandas.core.frame.DataFrame'>\n",
      "Int64Index: 58 entries, 0 to 57\n",
      "Data columns (total 4 columns):\n",
      " #   Column               Non-Null Count  Dtype  \n",
      "---  ------               --------------  -----  \n",
      " 0   County               58 non-null     object \n",
      " 1   2012 College Rate    58 non-null     float64\n",
      " 2   2016 College Rate    58 non-null     float64\n",
      " 3   College Rate Change  58 non-null     float64\n",
      "dtypes: float64(3), object(1)\n",
      "memory usage: 2.3+ KB\n"
     ]
    }
   ],
   "source": [
    "merged_education_df.info()"
   ]
  },
  {
   "cell_type": "code",
   "execution_count": 77,
   "metadata": {},
   "outputs": [
    {
     "data": {
      "text/plain": [
       "(array([21., 24., 11.,  2.]),\n",
       " array([11.07  , 19.4775, 27.885 , 36.2925, 44.7   ]),\n",
       " <a list of 4 Patch objects>)"
      ]
     },
     "execution_count": 77,
     "metadata": {},
     "output_type": "execute_result"
    },
    {
     "data": {
      "image/png": "[encoded data removed]",
      "text/plain": [
       "<Figure size 432x288 with 1 Axes>"
      ]
     },
     "metadata": {
      "needs_background": "light"
     },
     "output_type": "display_data"
    }
   ],
   "source": [
    "plt.hist(merged_education_df[\"2012 College Rate\"], bins=4)"
   ]
  },
  {
   "cell_type": "code",
   "execution_count": 78,
   "metadata": {},
   "outputs": [
    {
     "data": {
      "text/plain": [
       "(array([21., 24., 10.,  3.]),\n",
       " array([12.13 , 20.945, 29.76 , 38.575, 47.39 ]),\n",
       " <a list of 4 Patch objects>)"
      ]
     },
     "execution_count": 78,
     "metadata": {},
     "output_type": "execute_result"
    },
    {
     "data": {
      "image/png": "[encoded data removed]",
      "text/plain": [
       "<Figure size 432x288 with 1 Axes>"
      ]
     },
     "metadata": {
      "needs_background": "light"
     },
     "output_type": "display_data"
    }
   ],
   "source": [
    "plt.hist(merged_education_df[\"2016 College Rate\"], bins=4)"
   ]
  },
  {
   "cell_type": "code",
   "execution_count": 79,
   "metadata": {},
   "outputs": [
    {
     "data": {
      "text/plain": [
       "(array([ 6., 35., 16.,  1.]),\n",
       " array([-1.58  ,  0.1425,  1.865 ,  3.5875,  5.31  ]),\n",
       " <a list of 4 Patch objects>)"
      ]
     },
     "execution_count": 79,
     "metadata": {},
     "output_type": "execute_result"
    },
    {
     "data": {
      "image/png": "[encoded data removed]",
      "text/plain": [
       "<Figure size 432x288 with 1 Axes>"
      ]
     },
     "metadata": {
      "needs_background": "light"
     },
     "output_type": "display_data"
    }
   ],
   "source": [
    "plt.hist(merged_education_df[\"College Rate Change\"], bins=4)"
   ]
  },
  {
   "cell_type": "code",
   "execution_count": 81,
   "metadata": {},
   "outputs": [
    {
     "data": {
      "text/html": [
       "<div>\n",
       "<style scoped>\n",
       "    .dataframe tbody tr th:only-of-type {\n",
       "        vertical-align: middle;\n",
       "    }\n",
       "\n",
       "    .dataframe tbody tr th {\n",
       "        vertical-align: top;\n",
       "    }\n",
       "\n",
       "    .dataframe thead th {\n",
       "        text-align: right;\n",
       "    }\n",
       "</style>\n",
       "<table border=\"1\" class=\"dataframe\">\n",
       "  <thead>\n",
       "    <tr style=\"text-align: right;\">\n",
       "      <th></th>\n",
       "      <th>County</th>\n",
       "      <th>2012 College Rate</th>\n",
       "      <th>2016 College Rate</th>\n",
       "      <th>College Rate Change</th>\n",
       "    </tr>\n",
       "  </thead>\n",
       "  <tbody>\n",
       "    <tr>\n",
       "      <th>0</th>\n",
       "      <td>Alameda</td>\n",
       "      <td>32.42</td>\n",
       "      <td>35.08</td>\n",
       "      <td>2.65</td>\n",
       "    </tr>\n",
       "    <tr>\n",
       "      <th>1</th>\n",
       "      <td>Alpine</td>\n",
       "      <td>25.31</td>\n",
       "      <td>23.73</td>\n",
       "      <td>-1.58</td>\n",
       "    </tr>\n",
       "    <tr>\n",
       "      <th>2</th>\n",
       "      <td>Amador</td>\n",
       "      <td>21.78</td>\n",
       "      <td>23.64</td>\n",
       "      <td>1.86</td>\n",
       "    </tr>\n",
       "    <tr>\n",
       "      <th>3</th>\n",
       "      <td>Butte</td>\n",
       "      <td>21.24</td>\n",
       "      <td>23.13</td>\n",
       "      <td>1.89</td>\n",
       "    </tr>\n",
       "    <tr>\n",
       "      <th>4</th>\n",
       "      <td>Calaveras</td>\n",
       "      <td>22.52</td>\n",
       "      <td>23.53</td>\n",
       "      <td>1.00</td>\n",
       "    </tr>\n",
       "    <tr>\n",
       "      <th>5</th>\n",
       "      <td>Colusa</td>\n",
       "      <td>13.80</td>\n",
       "      <td>15.28</td>\n",
       "      <td>1.48</td>\n",
       "    </tr>\n",
       "    <tr>\n",
       "      <th>6</th>\n",
       "      <td>Contra Costa</td>\n",
       "      <td>31.34</td>\n",
       "      <td>32.96</td>\n",
       "      <td>1.62</td>\n",
       "    </tr>\n",
       "    <tr>\n",
       "      <th>7</th>\n",
       "      <td>Del Norte</td>\n",
       "      <td>14.20</td>\n",
       "      <td>16.47</td>\n",
       "      <td>2.27</td>\n",
       "    </tr>\n",
       "    <tr>\n",
       "      <th>8</th>\n",
       "      <td>El Dorado</td>\n",
       "      <td>29.00</td>\n",
       "      <td>31.01</td>\n",
       "      <td>2.01</td>\n",
       "    </tr>\n",
       "    <tr>\n",
       "      <th>9</th>\n",
       "      <td>Fresno</td>\n",
       "      <td>15.91</td>\n",
       "      <td>16.77</td>\n",
       "      <td>0.86</td>\n",
       "    </tr>\n",
       "    <tr>\n",
       "      <th>10</th>\n",
       "      <td>Glenn</td>\n",
       "      <td>13.68</td>\n",
       "      <td>12.82</td>\n",
       "      <td>-0.86</td>\n",
       "    </tr>\n",
       "    <tr>\n",
       "      <th>11</th>\n",
       "      <td>Humboldt</td>\n",
       "      <td>23.70</td>\n",
       "      <td>25.03</td>\n",
       "      <td>1.33</td>\n",
       "    </tr>\n",
       "    <tr>\n",
       "      <th>12</th>\n",
       "      <td>Imperial</td>\n",
       "      <td>11.63</td>\n",
       "      <td>12.34</td>\n",
       "      <td>0.71</td>\n",
       "    </tr>\n",
       "    <tr>\n",
       "      <th>13</th>\n",
       "      <td>Inyo</td>\n",
       "      <td>20.79</td>\n",
       "      <td>23.27</td>\n",
       "      <td>2.48</td>\n",
       "    </tr>\n",
       "    <tr>\n",
       "      <th>14</th>\n",
       "      <td>Kern</td>\n",
       "      <td>12.85</td>\n",
       "      <td>13.60</td>\n",
       "      <td>0.75</td>\n",
       "    </tr>\n",
       "    <tr>\n",
       "      <th>15</th>\n",
       "      <td>Kings</td>\n",
       "      <td>12.22</td>\n",
       "      <td>12.53</td>\n",
       "      <td>0.31</td>\n",
       "    </tr>\n",
       "    <tr>\n",
       "      <th>16</th>\n",
       "      <td>Lake</td>\n",
       "      <td>18.70</td>\n",
       "      <td>20.54</td>\n",
       "      <td>1.84</td>\n",
       "    </tr>\n",
       "    <tr>\n",
       "      <th>17</th>\n",
       "      <td>Lassen</td>\n",
       "      <td>17.30</td>\n",
       "      <td>15.72</td>\n",
       "      <td>-1.58</td>\n",
       "    </tr>\n",
       "    <tr>\n",
       "      <th>18</th>\n",
       "      <td>Los Angeles</td>\n",
       "      <td>23.53</td>\n",
       "      <td>25.13</td>\n",
       "      <td>1.59</td>\n",
       "    </tr>\n",
       "    <tr>\n",
       "      <th>19</th>\n",
       "      <td>Madera</td>\n",
       "      <td>13.18</td>\n",
       "      <td>13.05</td>\n",
       "      <td>-0.12</td>\n",
       "    </tr>\n",
       "    <tr>\n",
       "      <th>20</th>\n",
       "      <td>Marin</td>\n",
       "      <td>44.70</td>\n",
       "      <td>46.29</td>\n",
       "      <td>1.59</td>\n",
       "    </tr>\n",
       "    <tr>\n",
       "      <th>21</th>\n",
       "      <td>Mariposa</td>\n",
       "      <td>22.21</td>\n",
       "      <td>23.63</td>\n",
       "      <td>1.42</td>\n",
       "    </tr>\n",
       "    <tr>\n",
       "      <th>22</th>\n",
       "      <td>Mendocino</td>\n",
       "      <td>21.35</td>\n",
       "      <td>22.50</td>\n",
       "      <td>1.15</td>\n",
       "    </tr>\n",
       "    <tr>\n",
       "      <th>23</th>\n",
       "      <td>Merced</td>\n",
       "      <td>11.07</td>\n",
       "      <td>12.13</td>\n",
       "      <td>1.07</td>\n",
       "    </tr>\n",
       "    <tr>\n",
       "      <th>24</th>\n",
       "      <td>Modoc</td>\n",
       "      <td>20.50</td>\n",
       "      <td>22.66</td>\n",
       "      <td>2.16</td>\n",
       "    </tr>\n",
       "    <tr>\n",
       "      <th>25</th>\n",
       "      <td>Mono</td>\n",
       "      <td>26.46</td>\n",
       "      <td>25.29</td>\n",
       "      <td>-1.17</td>\n",
       "    </tr>\n",
       "    <tr>\n",
       "      <th>26</th>\n",
       "      <td>Monterey</td>\n",
       "      <td>18.90</td>\n",
       "      <td>19.96</td>\n",
       "      <td>1.07</td>\n",
       "    </tr>\n",
       "    <tr>\n",
       "      <th>27</th>\n",
       "      <td>Napa</td>\n",
       "      <td>27.29</td>\n",
       "      <td>28.90</td>\n",
       "      <td>1.61</td>\n",
       "    </tr>\n",
       "    <tr>\n",
       "      <th>28</th>\n",
       "      <td>Nevada</td>\n",
       "      <td>31.83</td>\n",
       "      <td>33.98</td>\n",
       "      <td>2.15</td>\n",
       "    </tr>\n",
       "    <tr>\n",
       "      <th>29</th>\n",
       "      <td>Orange</td>\n",
       "      <td>29.05</td>\n",
       "      <td>31.00</td>\n",
       "      <td>1.95</td>\n",
       "    </tr>\n",
       "    <tr>\n",
       "      <th>30</th>\n",
       "      <td>Placer</td>\n",
       "      <td>31.04</td>\n",
       "      <td>33.57</td>\n",
       "      <td>2.53</td>\n",
       "    </tr>\n",
       "    <tr>\n",
       "      <th>31</th>\n",
       "      <td>Plumas</td>\n",
       "      <td>25.83</td>\n",
       "      <td>26.15</td>\n",
       "      <td>0.32</td>\n",
       "    </tr>\n",
       "    <tr>\n",
       "      <th>32</th>\n",
       "      <td>Riverside</td>\n",
       "      <td>17.20</td>\n",
       "      <td>18.36</td>\n",
       "      <td>1.16</td>\n",
       "    </tr>\n",
       "    <tr>\n",
       "      <th>33</th>\n",
       "      <td>Sacramento</td>\n",
       "      <td>23.96</td>\n",
       "      <td>25.75</td>\n",
       "      <td>1.79</td>\n",
       "    </tr>\n",
       "    <tr>\n",
       "      <th>34</th>\n",
       "      <td>San Benito</td>\n",
       "      <td>16.19</td>\n",
       "      <td>17.15</td>\n",
       "      <td>0.95</td>\n",
       "    </tr>\n",
       "    <tr>\n",
       "      <th>35</th>\n",
       "      <td>San Bernardino</td>\n",
       "      <td>15.87</td>\n",
       "      <td>16.92</td>\n",
       "      <td>1.05</td>\n",
       "    </tr>\n",
       "    <tr>\n",
       "      <th>36</th>\n",
       "      <td>San Diego</td>\n",
       "      <td>28.13</td>\n",
       "      <td>30.01</td>\n",
       "      <td>1.88</td>\n",
       "    </tr>\n",
       "    <tr>\n",
       "      <th>37</th>\n",
       "      <td>San Francisco</td>\n",
       "      <td>44.40</td>\n",
       "      <td>47.39</td>\n",
       "      <td>2.99</td>\n",
       "    </tr>\n",
       "    <tr>\n",
       "      <th>38</th>\n",
       "      <td>San Joaquin</td>\n",
       "      <td>15.97</td>\n",
       "      <td>17.06</td>\n",
       "      <td>1.09</td>\n",
       "    </tr>\n",
       "    <tr>\n",
       "      <th>39</th>\n",
       "      <td>San Luis Obispo</td>\n",
       "      <td>27.24</td>\n",
       "      <td>29.15</td>\n",
       "      <td>1.90</td>\n",
       "    </tr>\n",
       "    <tr>\n",
       "      <th>40</th>\n",
       "      <td>San Mateo</td>\n",
       "      <td>36.19</td>\n",
       "      <td>38.66</td>\n",
       "      <td>2.47</td>\n",
       "    </tr>\n",
       "    <tr>\n",
       "      <th>41</th>\n",
       "      <td>Santa Barbara</td>\n",
       "      <td>24.54</td>\n",
       "      <td>24.63</td>\n",
       "      <td>0.10</td>\n",
       "    </tr>\n",
       "    <tr>\n",
       "      <th>42</th>\n",
       "      <td>Santa Clara</td>\n",
       "      <td>35.80</td>\n",
       "      <td>38.23</td>\n",
       "      <td>2.43</td>\n",
       "    </tr>\n",
       "    <tr>\n",
       "      <th>43</th>\n",
       "      <td>Santa Cruz</td>\n",
       "      <td>29.61</td>\n",
       "      <td>31.20</td>\n",
       "      <td>1.59</td>\n",
       "    </tr>\n",
       "    <tr>\n",
       "      <th>44</th>\n",
       "      <td>Shasta</td>\n",
       "      <td>20.77</td>\n",
       "      <td>22.11</td>\n",
       "      <td>1.33</td>\n",
       "    </tr>\n",
       "    <tr>\n",
       "      <th>45</th>\n",
       "      <td>Sierra</td>\n",
       "      <td>20.55</td>\n",
       "      <td>25.86</td>\n",
       "      <td>5.31</td>\n",
       "    </tr>\n",
       "    <tr>\n",
       "      <th>46</th>\n",
       "      <td>Siskiyou</td>\n",
       "      <td>23.14</td>\n",
       "      <td>23.46</td>\n",
       "      <td>0.32</td>\n",
       "    </tr>\n",
       "    <tr>\n",
       "      <th>47</th>\n",
       "      <td>Solano</td>\n",
       "      <td>22.42</td>\n",
       "      <td>23.59</td>\n",
       "      <td>1.17</td>\n",
       "    </tr>\n",
       "    <tr>\n",
       "      <th>48</th>\n",
       "      <td>Sonoma</td>\n",
       "      <td>28.02</td>\n",
       "      <td>29.95</td>\n",
       "      <td>1.94</td>\n",
       "    </tr>\n",
       "    <tr>\n",
       "      <th>49</th>\n",
       "      <td>Stanislaus</td>\n",
       "      <td>14.33</td>\n",
       "      <td>15.18</td>\n",
       "      <td>0.85</td>\n",
       "    </tr>\n",
       "    <tr>\n",
       "      <th>50</th>\n",
       "      <td>Sutter</td>\n",
       "      <td>18.04</td>\n",
       "      <td>18.73</td>\n",
       "      <td>0.70</td>\n",
       "    </tr>\n",
       "    <tr>\n",
       "      <th>51</th>\n",
       "      <td>Tehama</td>\n",
       "      <td>13.66</td>\n",
       "      <td>14.47</td>\n",
       "      <td>0.81</td>\n",
       "    </tr>\n",
       "    <tr>\n",
       "      <th>52</th>\n",
       "      <td>Trinity</td>\n",
       "      <td>21.76</td>\n",
       "      <td>22.02</td>\n",
       "      <td>0.26</td>\n",
       "    </tr>\n",
       "    <tr>\n",
       "      <th>53</th>\n",
       "      <td>Tulare</td>\n",
       "      <td>12.01</td>\n",
       "      <td>12.29</td>\n",
       "      <td>0.28</td>\n",
       "    </tr>\n",
       "    <tr>\n",
       "      <th>54</th>\n",
       "      <td>Tuolumne</td>\n",
       "      <td>20.17</td>\n",
       "      <td>22.19</td>\n",
       "      <td>2.02</td>\n",
       "    </tr>\n",
       "    <tr>\n",
       "      <th>55</th>\n",
       "      <td>Ventura</td>\n",
       "      <td>25.51</td>\n",
       "      <td>27.07</td>\n",
       "      <td>1.56</td>\n",
       "    </tr>\n",
       "    <tr>\n",
       "      <th>56</th>\n",
       "      <td>Yolo</td>\n",
       "      <td>26.35</td>\n",
       "      <td>27.17</td>\n",
       "      <td>0.83</td>\n",
       "    </tr>\n",
       "    <tr>\n",
       "      <th>57</th>\n",
       "      <td>Yuba</td>\n",
       "      <td>14.39</td>\n",
       "      <td>16.13</td>\n",
       "      <td>1.74</td>\n",
       "    </tr>\n",
       "  </tbody>\n",
       "</table>\n",
       "</div>"
      ],
      "text/plain": [
       "             County  2012 College Rate  2016 College Rate  College Rate Change\n",
       "0           Alameda              32.42              35.08                 2.65\n",
       "1            Alpine              25.31              23.73                -1.58\n",
       "2            Amador              21.78              23.64                 1.86\n",
       "3             Butte              21.24              23.13                 1.89\n",
       "4         Calaveras              22.52              23.53                 1.00\n",
       "5            Colusa              13.80              15.28                 1.48\n",
       "6      Contra Costa              31.34              32.96                 1.62\n",
       "7         Del Norte              14.20              16.47                 2.27\n",
       "8         El Dorado              29.00              31.01                 2.01\n",
       "9            Fresno              15.91              16.77                 0.86\n",
       "10            Glenn              13.68              12.82                -0.86\n",
       "11         Humboldt              23.70              25.03                 1.33\n",
       "12         Imperial              11.63              12.34                 0.71\n",
       "13             Inyo              20.79              23.27                 2.48\n",
       "14             Kern              12.85              13.60                 0.75\n",
       "15            Kings              12.22              12.53                 0.31\n",
       "16             Lake              18.70              20.54                 1.84\n",
       "17           Lassen              17.30              15.72                -1.58\n",
       "18      Los Angeles              23.53              25.13                 1.59\n",
       "19           Madera              13.18              13.05                -0.12\n",
       "20            Marin              44.70              46.29                 1.59\n",
       "21         Mariposa              22.21              23.63                 1.42\n",
       "22        Mendocino              21.35              22.50                 1.15\n",
       "23           Merced              11.07              12.13                 1.07\n",
       "24            Modoc              20.50              22.66                 2.16\n",
       "25             Mono              26.46              25.29                -1.17\n",
       "26         Monterey              18.90              19.96                 1.07\n",
       "27             Napa              27.29              28.90                 1.61\n",
       "28           Nevada              31.83              33.98                 2.15\n",
       "29           Orange              29.05              31.00                 1.95\n",
       "30           Placer              31.04              33.57                 2.53\n",
       "31           Plumas              25.83              26.15                 0.32\n",
       "32        Riverside              17.20              18.36                 1.16\n",
       "33       Sacramento              23.96              25.75                 1.79\n",
       "34       San Benito              16.19              17.15                 0.95\n",
       "35   San Bernardino              15.87              16.92                 1.05\n",
       "36        San Diego              28.13              30.01                 1.88\n",
       "37    San Francisco              44.40              47.39                 2.99\n",
       "38      San Joaquin              15.97              17.06                 1.09\n",
       "39  San Luis Obispo              27.24              29.15                 1.90\n",
       "40        San Mateo              36.19              38.66                 2.47\n",
       "41    Santa Barbara              24.54              24.63                 0.10\n",
       "42      Santa Clara              35.80              38.23                 2.43\n",
       "43       Santa Cruz              29.61              31.20                 1.59\n",
       "44           Shasta              20.77              22.11                 1.33\n",
       "45           Sierra              20.55              25.86                 5.31\n",
       "46         Siskiyou              23.14              23.46                 0.32\n",
       "47           Solano              22.42              23.59                 1.17\n",
       "48           Sonoma              28.02              29.95                 1.94\n",
       "49       Stanislaus              14.33              15.18                 0.85\n",
       "50           Sutter              18.04              18.73                 0.70\n",
       "51           Tehama              13.66              14.47                 0.81\n",
       "52          Trinity              21.76              22.02                 0.26\n",
       "53           Tulare              12.01              12.29                 0.28\n",
       "54         Tuolumne              20.17              22.19                 2.02\n",
       "55          Ventura              25.51              27.07                 1.56\n",
       "56             Yolo              26.35              27.17                 0.83\n",
       "57             Yuba              14.39              16.13                 1.74"
      ]
     },
     "execution_count": 81,
     "metadata": {},
     "output_type": "execute_result"
    }
   ],
   "source": [
    "merged_education_df"
   ]
  },
  {
   "cell_type": "code",
   "execution_count": 82,
   "metadata": {},
   "outputs": [],
   "source": [
    "merged_education_df.to_csv(\"education_college_rate_differences.csv\", encoding=\"utf-8\", index=False, header=True)"
   ]
  },
  {
   "cell_type": "code",
   "execution_count": 5,
   "metadata": {
    "scrolled": true
   },
   "outputs": [
    {
     "data": {
      "text/html": [
       "<div>\n",
       "<style scoped>\n",
       "    .dataframe tbody tr th:only-of-type {\n",
       "        vertical-align: middle;\n",
       "    }\n",
       "\n",
       "    .dataframe tbody tr th {\n",
       "        vertical-align: top;\n",
       "    }\n",
       "\n",
       "    .dataframe thead th {\n",
       "        text-align: right;\n",
       "    }\n",
       "</style>\n",
       "<table border=\"1\" class=\"dataframe\">\n",
       "  <thead>\n",
       "    <tr style=\"text-align: right;\">\n",
       "      <th></th>\n",
       "      <th>County</th>\n",
       "      <th>Population</th>\n",
       "    </tr>\n",
       "  </thead>\n",
       "  <tbody>\n",
       "    <tr>\n",
       "      <th>0</th>\n",
       "      <td>Alameda</td>\n",
       "      <td>1605217.0</td>\n",
       "    </tr>\n",
       "    <tr>\n",
       "      <th>1</th>\n",
       "      <td>Alpine</td>\n",
       "      <td>1184.0</td>\n",
       "    </tr>\n",
       "    <tr>\n",
       "      <th>2</th>\n",
       "      <td>Amador</td>\n",
       "      <td>36963.0</td>\n",
       "    </tr>\n",
       "    <tr>\n",
       "      <th>3</th>\n",
       "      <td>Butte</td>\n",
       "      <td>223877.0</td>\n",
       "    </tr>\n",
       "    <tr>\n",
       "      <th>4</th>\n",
       "      <td>Calaveras</td>\n",
       "      <td>44787.0</td>\n",
       "    </tr>\n",
       "  </tbody>\n",
       "</table>\n",
       "</div>"
      ],
      "text/plain": [
       "      County  Population\n",
       "0    Alameda   1605217.0\n",
       "1     Alpine      1184.0\n",
       "2     Amador     36963.0\n",
       "3      Butte    223877.0\n",
       "4  Calaveras     44787.0"
      ]
     },
     "execution_count": 5,
     "metadata": {},
     "output_type": "execute_result"
    }
   ],
   "source": [
    "population_2016_df = california_data[[\"County\",\"Population\"]]\n",
    "population_2016_df = population_2016_df.reset_index(drop=True)\n",
    "population_2016_df.head()"
   ]
  },
  {
   "cell_type": "code",
   "execution_count": 6,
   "metadata": {},
   "outputs": [
    {
     "data": {
      "text/html": [
       "<div>\n",
       "<style scoped>\n",
       "    .dataframe tbody tr th:only-of-type {\n",
       "        vertical-align: middle;\n",
       "    }\n",
       "\n",
       "    .dataframe tbody tr th {\n",
       "        vertical-align: top;\n",
       "    }\n",
       "\n",
       "    .dataframe thead th {\n",
       "        text-align: right;\n",
       "    }\n",
       "</style>\n",
       "<table border=\"1\" class=\"dataframe\">\n",
       "  <thead>\n",
       "    <tr style=\"text-align: right;\">\n",
       "      <th></th>\n",
       "      <th>FIPS</th>\n",
       "      <th>CTYNAME</th>\n",
       "    </tr>\n",
       "  </thead>\n",
       "  <tbody>\n",
       "    <tr>\n",
       "      <th>0</th>\n",
       "      <td>6001</td>\n",
       "      <td>Alameda County</td>\n",
       "    </tr>\n",
       "    <tr>\n",
       "      <th>1</th>\n",
       "      <td>6003</td>\n",
       "      <td>Alpine County</td>\n",
       "    </tr>\n",
       "    <tr>\n",
       "      <th>2</th>\n",
       "      <td>6005</td>\n",
       "      <td>Amador County</td>\n",
       "    </tr>\n",
       "    <tr>\n",
       "      <th>3</th>\n",
       "      <td>6007</td>\n",
       "      <td>Butte County</td>\n",
       "    </tr>\n",
       "    <tr>\n",
       "      <th>4</th>\n",
       "      <td>6009</td>\n",
       "      <td>Calaveras County</td>\n",
       "    </tr>\n",
       "  </tbody>\n",
       "</table>\n",
       "</div>"
      ],
      "text/plain": [
       "   FIPS           CTYNAME\n",
       "0  6001    Alameda County\n",
       "1  6003     Alpine County\n",
       "2  6005     Amador County\n",
       "3  6007      Butte County\n",
       "4  6009  Calaveras County"
      ]
     },
     "execution_count": 6,
     "metadata": {},
     "output_type": "execute_result"
    }
   ],
   "source": [
    "fips_df = pd.read_csv('fips_dataframe.csv')\n",
    "fips_df = fips_df[[\"FIPS\",\"CTYNAME\"]]\n",
    "fips_df.head()"
   ]
  },
  {
   "cell_type": "code",
   "execution_count": 7,
   "metadata": {
    "scrolled": true
   },
   "outputs": [
    {
     "data": {
      "text/html": [
       "<div>\n",
       "<style scoped>\n",
       "    .dataframe tbody tr th:only-of-type {\n",
       "        vertical-align: middle;\n",
       "    }\n",
       "\n",
       "    .dataframe tbody tr th {\n",
       "        vertical-align: top;\n",
       "    }\n",
       "\n",
       "    .dataframe thead th {\n",
       "        text-align: right;\n",
       "    }\n",
       "</style>\n",
       "<table border=\"1\" class=\"dataframe\">\n",
       "  <thead>\n",
       "    <tr style=\"text-align: right;\">\n",
       "      <th></th>\n",
       "      <th>FIPS</th>\n",
       "      <th>CTYNAME</th>\n",
       "      <th>County</th>\n",
       "    </tr>\n",
       "  </thead>\n",
       "  <tbody>\n",
       "    <tr>\n",
       "      <th>0</th>\n",
       "      <td>6001</td>\n",
       "      <td>Alameda County</td>\n",
       "      <td>Alameda</td>\n",
       "    </tr>\n",
       "    <tr>\n",
       "      <th>1</th>\n",
       "      <td>6003</td>\n",
       "      <td>Alpine County</td>\n",
       "      <td>Alpine</td>\n",
       "    </tr>\n",
       "    <tr>\n",
       "      <th>2</th>\n",
       "      <td>6005</td>\n",
       "      <td>Amador County</td>\n",
       "      <td>Amador</td>\n",
       "    </tr>\n",
       "    <tr>\n",
       "      <th>3</th>\n",
       "      <td>6007</td>\n",
       "      <td>Butte County</td>\n",
       "      <td>Butte</td>\n",
       "    </tr>\n",
       "    <tr>\n",
       "      <th>4</th>\n",
       "      <td>6009</td>\n",
       "      <td>Calaveras County</td>\n",
       "      <td>Calaveras</td>\n",
       "    </tr>\n",
       "  </tbody>\n",
       "</table>\n",
       "</div>"
      ],
      "text/plain": [
       "   FIPS           CTYNAME     County\n",
       "0  6001    Alameda County    Alameda\n",
       "1  6003     Alpine County     Alpine\n",
       "2  6005     Amador County     Amador\n",
       "3  6007      Butte County      Butte\n",
       "4  6009  Calaveras County  Calaveras"
      ]
     },
     "execution_count": 7,
     "metadata": {},
     "output_type": "execute_result"
    }
   ],
   "source": [
    "for index, row in fips_df.iterrows():\n",
    "    county = row[\"CTYNAME\"]\n",
    "    county_split = county.split(\" County\")\n",
    "    fips_df.loc[index, \"County\"] = str(county_split[0])\n",
    "        \n",
    "fips_df.head()"
   ]
  },
  {
   "cell_type": "code",
   "execution_count": 8,
   "metadata": {},
   "outputs": [],
   "source": [
    "del fips_df[\"CTYNAME\"]"
   ]
  },
  {
   "cell_type": "code",
   "execution_count": 10,
   "metadata": {},
   "outputs": [
    {
     "data": {
      "text/html": [
       "<div>\n",
       "<style scoped>\n",
       "    .dataframe tbody tr th:only-of-type {\n",
       "        vertical-align: middle;\n",
       "    }\n",
       "\n",
       "    .dataframe tbody tr th {\n",
       "        vertical-align: top;\n",
       "    }\n",
       "\n",
       "    .dataframe thead th {\n",
       "        text-align: right;\n",
       "    }\n",
       "</style>\n",
       "<table border=\"1\" class=\"dataframe\">\n",
       "  <thead>\n",
       "    <tr style=\"text-align: right;\">\n",
       "      <th></th>\n",
       "      <th>FIPS</th>\n",
       "      <th>County</th>\n",
       "      <th>Population</th>\n",
       "    </tr>\n",
       "  </thead>\n",
       "  <tbody>\n",
       "    <tr>\n",
       "      <th>0</th>\n",
       "      <td>6001</td>\n",
       "      <td>Alameda</td>\n",
       "      <td>1605217.0</td>\n",
       "    </tr>\n",
       "    <tr>\n",
       "      <th>1</th>\n",
       "      <td>6003</td>\n",
       "      <td>Alpine</td>\n",
       "      <td>1184.0</td>\n",
       "    </tr>\n",
       "    <tr>\n",
       "      <th>2</th>\n",
       "      <td>6005</td>\n",
       "      <td>Amador</td>\n",
       "      <td>36963.0</td>\n",
       "    </tr>\n",
       "    <tr>\n",
       "      <th>3</th>\n",
       "      <td>6007</td>\n",
       "      <td>Butte</td>\n",
       "      <td>223877.0</td>\n",
       "    </tr>\n",
       "    <tr>\n",
       "      <th>4</th>\n",
       "      <td>6009</td>\n",
       "      <td>Calaveras</td>\n",
       "      <td>44787.0</td>\n",
       "    </tr>\n",
       "  </tbody>\n",
       "</table>\n",
       "</div>"
      ],
      "text/plain": [
       "   FIPS     County  Population\n",
       "0  6001    Alameda   1605217.0\n",
       "1  6003     Alpine      1184.0\n",
       "2  6005     Amador     36963.0\n",
       "3  6007      Butte    223877.0\n",
       "4  6009  Calaveras     44787.0"
      ]
     },
     "execution_count": 10,
     "metadata": {},
     "output_type": "execute_result"
    }
   ],
   "source": [
    "merge_df = pd.merge(population_2016_df, fips_df, on=\"County\")\n",
    "merge_df = merge_df[[\"FIPS\",\"County\",\"Population\"]]\n",
    "merge_df.head()"
   ]
  },
  {
   "cell_type": "code",
   "execution_count": 11,
   "metadata": {},
   "outputs": [],
   "source": [
    "# Save as a csv\n",
    "# Note to avoid any issues later, use encoding=\"utf-8\"\n",
    "merge_df.to_csv(\"population_2016.csv\", encoding=\"utf-8\", index=False, header=True)"
   ]
  },
  {
   "cell_type": "code",
   "execution_count": 23,
   "metadata": {},
   "outputs": [
    {
     "data": {
      "text/plain": [
       "9787747.0"
      ]
     },
     "execution_count": 23,
     "metadata": {},
     "output_type": "execute_result"
    }
   ],
   "source": [
    "max(merge_df['Population'])"
   ]
  },
  {
   "cell_type": "code",
   "execution_count": 24,
   "metadata": {},
   "outputs": [
    {
     "data": {
      "text/plain": [
       "1167.0"
      ]
     },
     "execution_count": 24,
     "metadata": {},
     "output_type": "execute_result"
    }
   ],
   "source": [
    "min(merge_df['Population'])"
   ]
  },
  {
   "cell_type": "code",
   "execution_count": 35,
   "metadata": {},
   "outputs": [
    {
     "data": {
      "text/html": [
       "<div>\n",
       "<style scoped>\n",
       "    .dataframe tbody tr th:only-of-type {\n",
       "        vertical-align: middle;\n",
       "    }\n",
       "\n",
       "    .dataframe tbody tr th {\n",
       "        vertical-align: top;\n",
       "    }\n",
       "\n",
       "    .dataframe thead th {\n",
       "        text-align: right;\n",
       "    }\n",
       "</style>\n",
       "<table border=\"1\" class=\"dataframe\">\n",
       "  <thead>\n",
       "    <tr style=\"text-align: right;\">\n",
       "      <th></th>\n",
       "      <th>County</th>\n",
       "      <th>Population</th>\n",
       "      <th>Fips</th>\n",
       "    </tr>\n",
       "  </thead>\n",
       "  <tbody>\n",
       "    <tr>\n",
       "      <th>0</th>\n",
       "      <td>Alameda</td>\n",
       "      <td>1494876.0</td>\n",
       "      <td>001</td>\n",
       "    </tr>\n",
       "    <tr>\n",
       "      <th>1</th>\n",
       "      <td>Alpine</td>\n",
       "      <td>1167.0</td>\n",
       "      <td>003</td>\n",
       "    </tr>\n",
       "    <tr>\n",
       "      <th>2</th>\n",
       "      <td>Amador</td>\n",
       "      <td>38244.0</td>\n",
       "      <td>005</td>\n",
       "    </tr>\n",
       "    <tr>\n",
       "      <th>3</th>\n",
       "      <td>Butte</td>\n",
       "      <td>219309.0</td>\n",
       "      <td>007</td>\n",
       "    </tr>\n",
       "    <tr>\n",
       "      <th>4</th>\n",
       "      <td>Calaveras</td>\n",
       "      <td>45794.0</td>\n",
       "      <td>009</td>\n",
       "    </tr>\n",
       "    <tr>\n",
       "      <th>5</th>\n",
       "      <td>Colusa</td>\n",
       "      <td>21297.0</td>\n",
       "      <td>011</td>\n",
       "    </tr>\n",
       "    <tr>\n",
       "      <th>6</th>\n",
       "      <td>Contra Costa</td>\n",
       "      <td>1037817.0</td>\n",
       "      <td>013</td>\n",
       "    </tr>\n",
       "    <tr>\n",
       "      <th>7</th>\n",
       "      <td>Del Norte</td>\n",
       "      <td>28561.0</td>\n",
       "      <td>015</td>\n",
       "    </tr>\n",
       "    <tr>\n",
       "      <th>8</th>\n",
       "      <td>El Dorado</td>\n",
       "      <td>179878.0</td>\n",
       "      <td>017</td>\n",
       "    </tr>\n",
       "    <tr>\n",
       "      <th>9</th>\n",
       "      <td>Fresno</td>\n",
       "      <td>920623.0</td>\n",
       "      <td>019</td>\n",
       "    </tr>\n",
       "    <tr>\n",
       "      <th>10</th>\n",
       "      <td>Glenn</td>\n",
       "      <td>28027.0</td>\n",
       "      <td>021</td>\n",
       "    </tr>\n",
       "    <tr>\n",
       "      <th>11</th>\n",
       "      <td>Humboldt</td>\n",
       "      <td>133585.0</td>\n",
       "      <td>023</td>\n",
       "    </tr>\n",
       "    <tr>\n",
       "      <th>12</th>\n",
       "      <td>Imperial</td>\n",
       "      <td>171343.0</td>\n",
       "      <td>025</td>\n",
       "    </tr>\n",
       "    <tr>\n",
       "      <th>13</th>\n",
       "      <td>Inyo</td>\n",
       "      <td>18457.0</td>\n",
       "      <td>027</td>\n",
       "    </tr>\n",
       "    <tr>\n",
       "      <th>14</th>\n",
       "      <td>Kern</td>\n",
       "      <td>829254.0</td>\n",
       "      <td>029</td>\n",
       "    </tr>\n",
       "    <tr>\n",
       "      <th>15</th>\n",
       "      <td>Kings</td>\n",
       "      <td>152335.0</td>\n",
       "      <td>031</td>\n",
       "    </tr>\n",
       "    <tr>\n",
       "      <th>16</th>\n",
       "      <td>Lake</td>\n",
       "      <td>64392.0</td>\n",
       "      <td>033</td>\n",
       "    </tr>\n",
       "    <tr>\n",
       "      <th>17</th>\n",
       "      <td>Lassen</td>\n",
       "      <td>35001.0</td>\n",
       "      <td>035</td>\n",
       "    </tr>\n",
       "    <tr>\n",
       "      <th>18</th>\n",
       "      <td>Los Angeles</td>\n",
       "      <td>9787747.0</td>\n",
       "      <td>037</td>\n",
       "    </tr>\n",
       "    <tr>\n",
       "      <th>19</th>\n",
       "      <td>Madera</td>\n",
       "      <td>149611.0</td>\n",
       "      <td>039</td>\n",
       "    </tr>\n",
       "    <tr>\n",
       "      <th>20</th>\n",
       "      <td>Marin</td>\n",
       "      <td>250666.0</td>\n",
       "      <td>041</td>\n",
       "    </tr>\n",
       "    <tr>\n",
       "      <th>21</th>\n",
       "      <td>Mariposa</td>\n",
       "      <td>18290.0</td>\n",
       "      <td>043</td>\n",
       "    </tr>\n",
       "    <tr>\n",
       "      <th>22</th>\n",
       "      <td>Mendocino</td>\n",
       "      <td>87525.0</td>\n",
       "      <td>045</td>\n",
       "    </tr>\n",
       "    <tr>\n",
       "      <th>23</th>\n",
       "      <td>Merced</td>\n",
       "      <td>253606.0</td>\n",
       "      <td>047</td>\n",
       "    </tr>\n",
       "    <tr>\n",
       "      <th>24</th>\n",
       "      <td>Modoc</td>\n",
       "      <td>9587.0</td>\n",
       "      <td>049</td>\n",
       "    </tr>\n",
       "    <tr>\n",
       "      <th>25</th>\n",
       "      <td>Mono</td>\n",
       "      <td>14016.0</td>\n",
       "      <td>051</td>\n",
       "    </tr>\n",
       "    <tr>\n",
       "      <th>26</th>\n",
       "      <td>Monterey</td>\n",
       "      <td>411385.0</td>\n",
       "      <td>053</td>\n",
       "    </tr>\n",
       "    <tr>\n",
       "      <th>27</th>\n",
       "      <td>Napa</td>\n",
       "      <td>135377.0</td>\n",
       "      <td>055</td>\n",
       "    </tr>\n",
       "    <tr>\n",
       "      <th>28</th>\n",
       "      <td>Nevada</td>\n",
       "      <td>98392.0</td>\n",
       "      <td>057</td>\n",
       "    </tr>\n",
       "    <tr>\n",
       "      <th>29</th>\n",
       "      <td>Orange</td>\n",
       "      <td>2989948.0</td>\n",
       "      <td>059</td>\n",
       "    </tr>\n",
       "    <tr>\n",
       "      <th>30</th>\n",
       "      <td>Placer</td>\n",
       "      <td>343554.0</td>\n",
       "      <td>061</td>\n",
       "    </tr>\n",
       "    <tr>\n",
       "      <th>31</th>\n",
       "      <td>Plumas</td>\n",
       "      <td>20192.0</td>\n",
       "      <td>063</td>\n",
       "    </tr>\n",
       "    <tr>\n",
       "      <th>32</th>\n",
       "      <td>Riverside</td>\n",
       "      <td>2154844.0</td>\n",
       "      <td>065</td>\n",
       "    </tr>\n",
       "    <tr>\n",
       "      <th>33</th>\n",
       "      <td>Sacramento</td>\n",
       "      <td>1408480.0</td>\n",
       "      <td>067</td>\n",
       "    </tr>\n",
       "    <tr>\n",
       "      <th>34</th>\n",
       "      <td>San Benito</td>\n",
       "      <td>54873.0</td>\n",
       "      <td>069</td>\n",
       "    </tr>\n",
       "    <tr>\n",
       "      <th>35</th>\n",
       "      <td>San Bernardino</td>\n",
       "      <td>2023452.0</td>\n",
       "      <td>071</td>\n",
       "    </tr>\n",
       "    <tr>\n",
       "      <th>36</th>\n",
       "      <td>San Diego</td>\n",
       "      <td>3060849.0</td>\n",
       "      <td>073</td>\n",
       "    </tr>\n",
       "    <tr>\n",
       "      <th>37</th>\n",
       "      <td>San Francisco</td>\n",
       "      <td>797983.0</td>\n",
       "      <td>075</td>\n",
       "    </tr>\n",
       "    <tr>\n",
       "      <th>38</th>\n",
       "      <td>San Joaquin</td>\n",
       "      <td>680277.0</td>\n",
       "      <td>077</td>\n",
       "    </tr>\n",
       "    <tr>\n",
       "      <th>39</th>\n",
       "      <td>San Luis Obispo</td>\n",
       "      <td>267871.0</td>\n",
       "      <td>079</td>\n",
       "    </tr>\n",
       "    <tr>\n",
       "      <th>40</th>\n",
       "      <td>San Mateo</td>\n",
       "      <td>711622.0</td>\n",
       "      <td>081</td>\n",
       "    </tr>\n",
       "    <tr>\n",
       "      <th>41</th>\n",
       "      <td>Santa Barbara</td>\n",
       "      <td>419793.0</td>\n",
       "      <td>083</td>\n",
       "    </tr>\n",
       "    <tr>\n",
       "      <th>42</th>\n",
       "      <td>Santa Clara</td>\n",
       "      <td>1762754.0</td>\n",
       "      <td>085</td>\n",
       "    </tr>\n",
       "    <tr>\n",
       "      <th>43</th>\n",
       "      <td>Santa Cruz</td>\n",
       "      <td>259402.0</td>\n",
       "      <td>087</td>\n",
       "    </tr>\n",
       "    <tr>\n",
       "      <th>44</th>\n",
       "      <td>Shasta</td>\n",
       "      <td>177231.0</td>\n",
       "      <td>089</td>\n",
       "    </tr>\n",
       "    <tr>\n",
       "      <th>45</th>\n",
       "      <td>Sierra</td>\n",
       "      <td>3277.0</td>\n",
       "      <td>091</td>\n",
       "    </tr>\n",
       "    <tr>\n",
       "      <th>46</th>\n",
       "      <td>Siskiyou</td>\n",
       "      <td>44687.0</td>\n",
       "      <td>093</td>\n",
       "    </tr>\n",
       "    <tr>\n",
       "      <th>47</th>\n",
       "      <td>Solano</td>\n",
       "      <td>411620.0</td>\n",
       "      <td>095</td>\n",
       "    </tr>\n",
       "    <tr>\n",
       "      <th>48</th>\n",
       "      <td>Sonoma</td>\n",
       "      <td>478551.0</td>\n",
       "      <td>097</td>\n",
       "    </tr>\n",
       "    <tr>\n",
       "      <th>49</th>\n",
       "      <td>Stanislaus</td>\n",
       "      <td>512469.0</td>\n",
       "      <td>099</td>\n",
       "    </tr>\n",
       "    <tr>\n",
       "      <th>50</th>\n",
       "      <td>Sutter</td>\n",
       "      <td>94192.0</td>\n",
       "      <td>101</td>\n",
       "    </tr>\n",
       "    <tr>\n",
       "      <th>51</th>\n",
       "      <td>Tehama</td>\n",
       "      <td>62985.0</td>\n",
       "      <td>103</td>\n",
       "    </tr>\n",
       "    <tr>\n",
       "      <th>52</th>\n",
       "      <td>Trinity</td>\n",
       "      <td>13711.0</td>\n",
       "      <td>105</td>\n",
       "    </tr>\n",
       "    <tr>\n",
       "      <th>53</th>\n",
       "      <td>Tulare</td>\n",
       "      <td>436234.0</td>\n",
       "      <td>107</td>\n",
       "    </tr>\n",
       "    <tr>\n",
       "      <th>54</th>\n",
       "      <td>Tuolumne</td>\n",
       "      <td>55736.0</td>\n",
       "      <td>109</td>\n",
       "    </tr>\n",
       "    <tr>\n",
       "      <th>55</th>\n",
       "      <td>Ventura</td>\n",
       "      <td>815745.0</td>\n",
       "      <td>111</td>\n",
       "    </tr>\n",
       "    <tr>\n",
       "      <th>56</th>\n",
       "      <td>Yolo</td>\n",
       "      <td>198889.0</td>\n",
       "      <td>113</td>\n",
       "    </tr>\n",
       "    <tr>\n",
       "      <th>57</th>\n",
       "      <td>Yuba</td>\n",
       "      <td>71817.0</td>\n",
       "      <td>115</td>\n",
       "    </tr>\n",
       "  </tbody>\n",
       "</table>\n",
       "</div>"
      ],
      "text/plain": [
       "             County  Population Fips\n",
       "0           Alameda   1494876.0  001\n",
       "1            Alpine      1167.0  003\n",
       "2            Amador     38244.0  005\n",
       "3             Butte    219309.0  007\n",
       "4         Calaveras     45794.0  009\n",
       "5            Colusa     21297.0  011\n",
       "6      Contra Costa   1037817.0  013\n",
       "7         Del Norte     28561.0  015\n",
       "8         El Dorado    179878.0  017\n",
       "9            Fresno    920623.0  019\n",
       "10            Glenn     28027.0  021\n",
       "11         Humboldt    133585.0  023\n",
       "12         Imperial    171343.0  025\n",
       "13             Inyo     18457.0  027\n",
       "14             Kern    829254.0  029\n",
       "15            Kings    152335.0  031\n",
       "16             Lake     64392.0  033\n",
       "17           Lassen     35001.0  035\n",
       "18      Los Angeles   9787747.0  037\n",
       "19           Madera    149611.0  039\n",
       "20            Marin    250666.0  041\n",
       "21         Mariposa     18290.0  043\n",
       "22        Mendocino     87525.0  045\n",
       "23           Merced    253606.0  047\n",
       "24            Modoc      9587.0  049\n",
       "25             Mono     14016.0  051\n",
       "26         Monterey    411385.0  053\n",
       "27             Napa    135377.0  055\n",
       "28           Nevada     98392.0  057\n",
       "29           Orange   2989948.0  059\n",
       "30           Placer    343554.0  061\n",
       "31           Plumas     20192.0  063\n",
       "32        Riverside   2154844.0  065\n",
       "33       Sacramento   1408480.0  067\n",
       "34       San Benito     54873.0  069\n",
       "35   San Bernardino   2023452.0  071\n",
       "36        San Diego   3060849.0  073\n",
       "37    San Francisco    797983.0  075\n",
       "38      San Joaquin    680277.0  077\n",
       "39  San Luis Obispo    267871.0  079\n",
       "40        San Mateo    711622.0  081\n",
       "41    Santa Barbara    419793.0  083\n",
       "42      Santa Clara   1762754.0  085\n",
       "43       Santa Cruz    259402.0  087\n",
       "44           Shasta    177231.0  089\n",
       "45           Sierra      3277.0  091\n",
       "46         Siskiyou     44687.0  093\n",
       "47           Solano    411620.0  095\n",
       "48           Sonoma    478551.0  097\n",
       "49       Stanislaus    512469.0  099\n",
       "50           Sutter     94192.0  101\n",
       "51           Tehama     62985.0  103\n",
       "52          Trinity     13711.0  105\n",
       "53           Tulare    436234.0  107\n",
       "54         Tuolumne     55736.0  109\n",
       "55          Ventura    815745.0  111\n",
       "56             Yolo    198889.0  113\n",
       "57             Yuba     71817.0  115"
      ]
     },
     "execution_count": 35,
     "metadata": {},
     "output_type": "execute_result"
    }
   ],
   "source": [
    "merge_df"
   ]
  },
  {
   "cell_type": "code",
   "execution_count": 45,
   "metadata": {},
   "outputs": [],
   "source": [
    "# Create bins in which to place values based upon TED Talk views\n",
    "bins = [0, 14999, 59999, 150000, 430000, 2080000, 10000000]\n",
    "# Create labels for these bins\n",
    "group_labels = [\"0 to 13k\", \"15k to 59k\", \"60k to 134k\", \"135k to 429k\", \n",
    "               \"430k to 2 mil\", \"2 mil to 10 mil\"]"
   ]
  },
  {
   "cell_type": "code",
   "execution_count": 46,
   "metadata": {},
   "outputs": [],
   "source": [
    "merge_df[\"Pop Group\"] = pd.cut(merge_df[\"Population\"], bins, labels=group_labels)"
   ]
  },
  {
   "cell_type": "code",
   "execution_count": 57,
   "metadata": {},
   "outputs": [
    {
     "data": {
      "text/plain": [
       "<AxesSubplot:xlabel='Pop Group'>"
      ]
     },
     "execution_count": 57,
     "metadata": {},
     "output_type": "execute_result"
    },
    {
     "data": {
      "image/png": "[encoded data removed]",
      "text/plain": [
       "<Figure size 432x288 with 1 Axes>"
      ]
     },
     "metadata": {
      "needs_background": "light"
     },
     "output_type": "display_data"
    }
   ],
   "source": [
    "merge_df.groupby('Pop Group').count().plot(kind=\"bar\")"
   ]
  },
  {
   "cell_type": "code",
   "execution_count": 88,
   "metadata": {},
   "outputs": [
    {
     "data": {
      "text/plain": [
       "178554.5"
      ]
     },
     "execution_count": 88,
     "metadata": {},
     "output_type": "execute_result"
    }
   ],
   "source": [
    "sorted_df[\"Population\"].median()"
   ]
  },
  {
   "cell_type": "code",
   "execution_count": null,
   "metadata": {},
   "outputs": [],
   "source": []
  },
  {
   "cell_type": "code",
   "execution_count": 65,
   "metadata": {},
   "outputs": [],
   "source": [
    "test_series = sorted_df[\"Population\"].values"
   ]
  },
  {
   "cell_type": "code",
   "execution_count": 79,
   "metadata": {
    "scrolled": true
   },
   "outputs": [
    {
     "data": {
      "text/plain": [
       "array([1.167000e+03, 3.277000e+03, 9.587000e+03, 1.371100e+04,\n",
       "       1.401600e+04, 1.829000e+04, 1.845700e+04, 2.019200e+04,\n",
       "       2.129700e+04, 2.802700e+04, 2.856100e+04, 3.500100e+04,\n",
       "       3.824400e+04, 4.468700e+04, 4.579400e+04, 5.487300e+04,\n",
       "       5.573600e+04, 6.298500e+04, 6.439200e+04, 7.181700e+04,\n",
       "       8.752500e+04, 9.419200e+04, 9.839200e+04, 1.335850e+05,\n",
       "       1.353770e+05, 1.496110e+05, 1.523350e+05, 1.713430e+05,\n",
       "       1.772310e+05, 1.798780e+05, 1.988890e+05, 2.193090e+05,\n",
       "       2.506660e+05, 2.536060e+05, 2.594020e+05, 2.678710e+05,\n",
       "       3.435540e+05, 4.113850e+05, 4.116200e+05, 4.197930e+05,\n",
       "       4.362340e+05, 4.785510e+05, 5.124690e+05, 6.802770e+05,\n",
       "       7.116220e+05, 7.979830e+05, 8.157450e+05, 8.292540e+05,\n",
       "       9.206230e+05, 1.037817e+06, 1.408480e+06, 1.494876e+06,\n",
       "       1.762754e+06, 2.023452e+06, 2.154844e+06, 2.989948e+06,\n",
       "       3.060849e+06, 9.787747e+06])"
      ]
     },
     "execution_count": 79,
     "metadata": {},
     "output_type": "execute_result"
    }
   ],
   "source": [
    "test_series"
   ]
  },
  {
   "cell_type": "markdown",
   "metadata": {},
   "source": [
    "https://data36.com/plot-histogram-python-pandas/\n",
    "\n",
    "https://mode.com/example-gallery/python_histogram/\n",
    "\n",
    "https://www.youtube.com/watch?v=snkkKrek7TU\n",
    "Data camp binning data\n",
    "making a histogram "
   ]
  },
  {
   "cell_type": "code",
   "execution_count": 51,
   "metadata": {},
   "outputs": [
    {
     "data": {
      "text/html": [
       "<div>\n",
       "<style scoped>\n",
       "    .dataframe tbody tr th:only-of-type {\n",
       "        vertical-align: middle;\n",
       "    }\n",
       "\n",
       "    .dataframe tbody tr th {\n",
       "        vertical-align: top;\n",
       "    }\n",
       "\n",
       "    .dataframe thead th {\n",
       "        text-align: right;\n",
       "    }\n",
       "</style>\n",
       "<table border=\"1\" class=\"dataframe\">\n",
       "  <thead>\n",
       "    <tr style=\"text-align: right;\">\n",
       "      <th></th>\n",
       "      <th>County</th>\n",
       "      <th>Population</th>\n",
       "      <th>Fips</th>\n",
       "      <th>Pop Group</th>\n",
       "    </tr>\n",
       "  </thead>\n",
       "  <tbody>\n",
       "    <tr>\n",
       "      <th>1</th>\n",
       "      <td>Alpine</td>\n",
       "      <td>1167.0</td>\n",
       "      <td>003</td>\n",
       "      <td>0 to 13k</td>\n",
       "    </tr>\n",
       "    <tr>\n",
       "      <th>45</th>\n",
       "      <td>Sierra</td>\n",
       "      <td>3277.0</td>\n",
       "      <td>091</td>\n",
       "      <td>0 to 13k</td>\n",
       "    </tr>\n",
       "    <tr>\n",
       "      <th>24</th>\n",
       "      <td>Modoc</td>\n",
       "      <td>9587.0</td>\n",
       "      <td>049</td>\n",
       "      <td>0 to 13k</td>\n",
       "    </tr>\n",
       "    <tr>\n",
       "      <th>52</th>\n",
       "      <td>Trinity</td>\n",
       "      <td>13711.0</td>\n",
       "      <td>105</td>\n",
       "      <td>0 to 13k</td>\n",
       "    </tr>\n",
       "    <tr>\n",
       "      <th>25</th>\n",
       "      <td>Mono</td>\n",
       "      <td>14016.0</td>\n",
       "      <td>051</td>\n",
       "      <td>0 to 13k</td>\n",
       "    </tr>\n",
       "  </tbody>\n",
       "</table>\n",
       "</div>"
      ],
      "text/plain": [
       "     County  Population Fips Pop Group\n",
       "1    Alpine      1167.0  003  0 to 13k\n",
       "45   Sierra      3277.0  091  0 to 13k\n",
       "24    Modoc      9587.0  049  0 to 13k\n",
       "52  Trinity     13711.0  105  0 to 13k\n",
       "25     Mono     14016.0  051  0 to 13k"
      ]
     },
     "execution_count": 51,
     "metadata": {},
     "output_type": "execute_result"
    }
   ],
   "source": [
    "sorted_df = merge_df.sort_values(by=\"Population\")\n",
    "sorted_df.head()"
   ]
  },
  {
   "cell_type": "code",
   "execution_count": 59,
   "metadata": {},
   "outputs": [
    {
     "name": "stdout",
     "output_type": "stream",
     "text": [
      "637400.0\n",
      "1410432.107127893\n"
     ]
    }
   ],
   "source": [
    "print(sorted_df[\"Population\"].mean())\n",
    "print(sorted_df[\"Population\"].std())"
   ]
  },
  {
   "cell_type": "code",
   "execution_count": 61,
   "metadata": {},
   "outputs": [
    {
     "data": {
      "text/plain": [
       "1        1167.0\n",
       "45       3277.0\n",
       "24       9587.0\n",
       "52      13711.0\n",
       "25      14016.0\n",
       "21      18290.0\n",
       "13      18457.0\n",
       "31      20192.0\n",
       "5       21297.0\n",
       "10      28027.0\n",
       "7       28561.0\n",
       "17      35001.0\n",
       "2       38244.0\n",
       "46      44687.0\n",
       "4       45794.0\n",
       "34      54873.0\n",
       "54      55736.0\n",
       "51      62985.0\n",
       "16      64392.0\n",
       "57      71817.0\n",
       "22      87525.0\n",
       "50      94192.0\n",
       "28      98392.0\n",
       "11     133585.0\n",
       "27     135377.0\n",
       "19     149611.0\n",
       "15     152335.0\n",
       "12     171343.0\n",
       "44     177231.0\n",
       "8      179878.0\n",
       "56     198889.0\n",
       "3      219309.0\n",
       "20     250666.0\n",
       "23     253606.0\n",
       "43     259402.0\n",
       "39     267871.0\n",
       "30     343554.0\n",
       "26     411385.0\n",
       "47     411620.0\n",
       "41     419793.0\n",
       "53     436234.0\n",
       "48     478551.0\n",
       "49     512469.0\n",
       "38     680277.0\n",
       "40     711622.0\n",
       "37     797983.0\n",
       "55     815745.0\n",
       "14     829254.0\n",
       "9      920623.0\n",
       "6     1037817.0\n",
       "33    1408480.0\n",
       "0     1494876.0\n",
       "42    1762754.0\n",
       "35    2023452.0\n",
       "32    2154844.0\n",
       "29    2989948.0\n",
       "36    3060849.0\n",
       "18    9787747.0\n",
       "Name: Population, dtype: float64"
      ]
     },
     "execution_count": 61,
     "metadata": {},
     "output_type": "execute_result"
    }
   ],
   "source": [
    "sorted_df[\"Population\"]"
   ]
  },
  {
   "cell_type": "code",
   "execution_count": 95,
   "metadata": {},
   "outputs": [],
   "source": [
    "new_df = sorted_df.loc[sorted_df[\"Population\"] < 9000000]"
   ]
  },
  {
   "cell_type": "code",
   "execution_count": 96,
   "metadata": {
    "scrolled": true
   },
   "outputs": [
    {
     "data": {
      "text/plain": [
       "(array([36.,  7.,  5.,  2.,  2.,  1.,  1.,  1.,  0.,  2.]),\n",
       " array([1.1670000e+03, 3.0713520e+05, 6.1310340e+05, 9.1907160e+05,\n",
       "        1.2250398e+06, 1.5310080e+06, 1.8369762e+06, 2.1429444e+06,\n",
       "        2.4489126e+06, 2.7548808e+06, 3.0608490e+06]),\n",
       " <BarContainer object of 10 artists>)"
      ]
     },
     "execution_count": 96,
     "metadata": {},
     "output_type": "execute_result"
    },
    {
     "data": {
      "image/png": "[encoded data removed]",
      "text/plain": [
       "<Figure size 432x288 with 1 Axes>"
      ]
     },
     "metadata": {
      "needs_background": "light"
     },
     "output_type": "display_data"
    }
   ],
   "source": [
    "plt.hist(new_df[\"Population\"])"
   ]
  },
  {
   "cell_type": "code",
   "execution_count": 91,
   "metadata": {},
   "outputs": [
    {
     "data": {
      "text/plain": [
       "1        1167.0\n",
       "45       3277.0\n",
       "24       9587.0\n",
       "52      13711.0\n",
       "25      14016.0\n",
       "21      18290.0\n",
       "13      18457.0\n",
       "31      20192.0\n",
       "5       21297.0\n",
       "10      28027.0\n",
       "7       28561.0\n",
       "17      35001.0\n",
       "2       38244.0\n",
       "46      44687.0\n",
       "4       45794.0\n",
       "34      54873.0\n",
       "54      55736.0\n",
       "51      62985.0\n",
       "16      64392.0\n",
       "57      71817.0\n",
       "22      87525.0\n",
       "50      94192.0\n",
       "28      98392.0\n",
       "11     133585.0\n",
       "27     135377.0\n",
       "19     149611.0\n",
       "15     152335.0\n",
       "12     171343.0\n",
       "44     177231.0\n",
       "8      179878.0\n",
       "56     198889.0\n",
       "3      219309.0\n",
       "20     250666.0\n",
       "23     253606.0\n",
       "43     259402.0\n",
       "39     267871.0\n",
       "30     343554.0\n",
       "26     411385.0\n",
       "47     411620.0\n",
       "41     419793.0\n",
       "53     436234.0\n",
       "48     478551.0\n",
       "49     512469.0\n",
       "38     680277.0\n",
       "40     711622.0\n",
       "37     797983.0\n",
       "55     815745.0\n",
       "14     829254.0\n",
       "9      920623.0\n",
       "6     1037817.0\n",
       "33    1408480.0\n",
       "0     1494876.0\n",
       "42    1762754.0\n",
       "35    2023452.0\n",
       "32    2154844.0\n",
       "29    2989948.0\n",
       "36    3060849.0\n",
       "18    9787747.0\n",
       "Name: Population, dtype: float64"
      ]
     },
     "execution_count": 91,
     "metadata": {},
     "output_type": "execute_result"
    }
   ],
   "source": [
    "test_again = sorted_df[\"Population\"]\n",
    "test_again"
   ]
  },
  {
   "cell_type": "code",
   "execution_count": 80,
   "metadata": {},
   "outputs": [],
   "source": [
    "height = [185, 172, 172, 169, 181, 162, 186, 171, 177, 174, 184, 163, 174, 173, 182, 169, 174, 170, 176, 179, 169, 182, 181, 179, 181, 171, 175, 170, 174, 179, 171, 173, 171, 170, 171, 175, 169, 177, 185, 180, 174, 170, 171, 186, 176, 172, 177, 188, 176, 179, 177, 173, 169, 173, 174, 179, 181, 181, 177, 181, 171, 183, 179, 174, 178, 175, 182, 185, 189, 167, 167, 172, 176, 181, 177, 163, 174, 180, 177, 180, 174, 174, 177, 178, 177, 176, 171, 178, 176, 182, 183, 177, 173, 172, 178, 176, 173, 176, 172, 180, 173, 183, 178, 179, 169, 177, 180, 170, 174, 176, 167, 177, 181, 170, 178, 168, 175, 166, 182, 178, 175, 171, 183, 187, 164, 183, 185, 178, 168, 181, 174, 172, 168, 179, 180, 172, 179, 169, 180, 176, 174, 175, 181, 180, 179, 176, 176, 179, 177, 180, 174, 161, 182, 189, 178, 175, 175, 175, 176, 169, 172, 170, 177, 174, 178, 174, 181, 177, 189, 164, 172, 181, 191, 174, 176, 174, 183, 174, 180, 174, 168, 177, 179, 183, 175, 172, 179, 177, 177, 175, 182, 178, 187, 182, 179, 166, 179, 178, 180, 182, 173, 180, 172, 187, 168, 165, 166, 170, 169, 187, 174, 167, 182, 172, 168, 181, 179, 173, 184, 176, 185, 179, 185, 176, 168, 190, 172, 174, 171, 174, 177, 177, 179, 186, 175, 168, 168, 172, 165, 180, 173, 174, 175, 167, 170, 180, 179, 173, 186, 168]"
   ]
  },
  {
   "cell_type": "code",
   "execution_count": 81,
   "metadata": {},
   "outputs": [
    {
     "data": {
      "text/plain": [
       "(array([ 4.,  7., 24., 34., 48., 48., 46., 19., 14.,  6.]),\n",
       " array([161., 164., 167., 170., 173., 176., 179., 182., 185., 188., 191.]),\n",
       " <BarContainer object of 10 artists>)"
      ]
     },
     "execution_count": 81,
     "metadata": {},
     "output_type": "execute_result"
    },
    {
     "data": {
      "image/png": "[encoded data removed]",
      "text/plain": [
       "<Figure size 432x288 with 1 Axes>"
      ]
     },
     "metadata": {
      "needs_background": "light"
     },
     "output_type": "display_data"
    }
   ],
   "source": [
    "plt.hist(height)"
   ]
  },
  {
   "cell_type": "code",
   "execution_count": 85,
   "metadata": {},
   "outputs": [],
   "source": [
    "height_array = np.asarray(height)"
   ]
  },
  {
   "cell_type": "code",
   "execution_count": 86,
   "metadata": {},
   "outputs": [
    {
     "data": {
      "text/plain": [
       "5.712240891279008"
      ]
     },
     "execution_count": 86,
     "metadata": {},
     "output_type": "execute_result"
    }
   ],
   "source": [
    "np.std(height_array)"
   ]
  },
  {
   "cell_type": "code",
   "execution_count": 89,
   "metadata": {},
   "outputs": [
    {
     "data": {
      "text/plain": [
       "176.0"
      ]
     },
     "execution_count": 89,
     "metadata": {},
     "output_type": "execute_result"
    }
   ],
   "source": [
    "np.median(height_array)"
   ]
  },
  {
   "cell_type": "markdown",
   "metadata": {},
   "source": [
    "https://numpy.org/doc/stable/reference/generated/numpy.asarray.html\n",
    "\n",
    "https://numpy.org/doc/stable/reference/generated/numpy.mean.html\n",
    "\n",
    "https://numpy.org/doc/stable/reference/generated/numpy.std.html\n"
   ]
  },
  {
   "cell_type": "markdown",
   "metadata": {},
   "source": [
    "https://stackoverflow.com/questions/33385238/how-to-convert-pandas-single-column-data-frame-to-series-or-numpy-vector\n",
    "\n",
    "https://mode.com/example-gallery/python_histogram/"
   ]
  },
  {
   "cell_type": "code",
   "execution_count": null,
   "metadata": {},
   "outputs": [],
   "source": []
  },
  {
   "cell_type": "code",
   "execution_count": null,
   "metadata": {},
   "outputs": [],
   "source": []
  },
  {
   "cell_type": "code",
   "execution_count": null,
   "metadata": {},
   "outputs": [],
   "source": []
  }
 ],
 "metadata": {
  "anaconda-cloud": {},
  "kernelspec": {
   "display_name": "Python 3",
   "language": "python",
   "name": "python3"
  },
  "language_info": {
   "codemirror_mode": {
    "name": "ipython",
    "version": 3
   },
   "file_extension": ".py",
   "mimetype": "text/x-python",
   "name": "python",
   "nbconvert_exporter": "python",
   "pygments_lexer": "ipython3",
   "version": "3.8.5"
  },
  "latex_envs": {
   "LaTeX_envs_menu_present": true,
   "autoclose": false,
   "autocomplete": true,
   "bibliofile": "biblio.bib",
   "cite_by": "apalike",
   "current_citInitial": 1,
   "eqLabelWithNumbers": true,
   "eqNumInitial": 1,
   "hotkeys": {
    "equation": "Ctrl-E",
    "itemize": "Ctrl-I"
   },
   "labels_anchors": false,
   "latex_user_defs": false,
   "report_style_numbering": false,
   "user_envs_cfg": false
  }
 },
 "nbformat": 4,
 "nbformat_minor": 1
}
