{
 "cells": [
  {
   "cell_type": "code",
   "execution_count": 1,
   "metadata": {},
   "outputs": [],
   "source": [
    "import pandas as pd\n",
    "import matplotlib.pyplot as plt"
   ]
  },
  {
   "cell_type": "markdown",
   "metadata": {},
   "source": [
    "# Goal\n",
    "From the large dataframe\n",
    "```\n",
    "census_health_ff_2011_2016.csv\n",
    "```\n",
    "from Analysis/data\n",
    "get the data for Per Capita Income.\n"
   ]
  },
  {
   "cell_type": "code",
   "execution_count": 2,
   "metadata": {
    "scrolled": true
   },
   "outputs": [
    {
     "data": {
      "text/html": [
       "<div>\n",
       "<style scoped>\n",
       "    .dataframe tbody tr th:only-of-type {\n",
       "        vertical-align: middle;\n",
       "    }\n",
       "\n",
       "    .dataframe tbody tr th {\n",
       "        vertical-align: top;\n",
       "    }\n",
       "\n",
       "    .dataframe thead th {\n",
       "        text-align: right;\n",
       "    }\n",
       "</style>\n",
       "<table border=\"1\" class=\"dataframe\">\n",
       "  <thead>\n",
       "    <tr style=\"text-align: right;\">\n",
       "      <th></th>\n",
       "      <th>County</th>\n",
       "      <th>Household Income 2011</th>\n",
       "      <th>Population 2011</th>\n",
       "      <th>Median Age 2011</th>\n",
       "      <th>Per Capita Income 2011</th>\n",
       "      <th>Poverty Count 2011</th>\n",
       "      <th>Employed Persons Over 16 2011</th>\n",
       "      <th>Unemployed Persons Over 16 2011</th>\n",
       "      <th>Household Income 2016</th>\n",
       "      <th>Population 2016</th>\n",
       "      <th>...</th>\n",
       "      <th>Fast-food restaurants (% change), 2011-16</th>\n",
       "      <th>Fast-food restaurants/10,000 pop, 2011</th>\n",
       "      <th>Fast-food restaurants/10,000 pop, 2016</th>\n",
       "      <th>Fast-food restaurants/1,000 pop (% change), 2011-16</th>\n",
       "      <th>Obesity 2011 %</th>\n",
       "      <th>Obesity 2016 %</th>\n",
       "      <th>New Diabetes per 1k : 2011</th>\n",
       "      <th>New Diabetes per 1k : 2016</th>\n",
       "      <th>Diagnosed Diabetes 2011 %</th>\n",
       "      <th>Diagnosed Diabetes 2016 %</th>\n",
       "    </tr>\n",
       "  </thead>\n",
       "  <tbody>\n",
       "    <tr>\n",
       "      <th>0</th>\n",
       "      <td>Alameda</td>\n",
       "      <td>70821.0</td>\n",
       "      <td>1494876.0</td>\n",
       "      <td>36.4</td>\n",
       "      <td>34937.0</td>\n",
       "      <td>173156.0</td>\n",
       "      <td>792734.0</td>\n",
       "      <td>401593.0</td>\n",
       "      <td>79831.0</td>\n",
       "      <td>1605217.0</td>\n",
       "      <td>...</td>\n",
       "      <td>18.623853</td>\n",
       "      <td>7.11388</td>\n",
       "      <td>7.82102</td>\n",
       "      <td>9.940291</td>\n",
       "      <td>20.2</td>\n",
       "      <td>19.2</td>\n",
       "      <td>7.3</td>\n",
       "      <td>5.6</td>\n",
       "      <td>7.7</td>\n",
       "      <td>6.7</td>\n",
       "    </tr>\n",
       "    <tr>\n",
       "      <th>1</th>\n",
       "      <td>Alpine</td>\n",
       "      <td>59018.0</td>\n",
       "      <td>1167.0</td>\n",
       "      <td>40.4</td>\n",
       "      <td>29576.0</td>\n",
       "      <td>170.0</td>\n",
       "      <td>581.0</td>\n",
       "      <td>351.0</td>\n",
       "      <td>62375.0</td>\n",
       "      <td>1184.0</td>\n",
       "      <td>...</td>\n",
       "      <td>-100.000000</td>\n",
       "      <td>18.29826</td>\n",
       "      <td>0.00000</td>\n",
       "      <td>-100.000000</td>\n",
       "      <td>22.6</td>\n",
       "      <td>20.9</td>\n",
       "      <td>8.4</td>\n",
       "      <td>4.1</td>\n",
       "      <td>8.0</td>\n",
       "      <td>4.6</td>\n",
       "    </tr>\n",
       "    <tr>\n",
       "      <th>2</th>\n",
       "      <td>Amador</td>\n",
       "      <td>56180.0</td>\n",
       "      <td>38244.0</td>\n",
       "      <td>48.0</td>\n",
       "      <td>28030.0</td>\n",
       "      <td>3372.0</td>\n",
       "      <td>15650.0</td>\n",
       "      <td>17192.0</td>\n",
       "      <td>57032.0</td>\n",
       "      <td>36963.0</td>\n",
       "      <td>...</td>\n",
       "      <td>75.000000</td>\n",
       "      <td>3.19668</td>\n",
       "      <td>5.60403</td>\n",
       "      <td>75.308222</td>\n",
       "      <td>24.8</td>\n",
       "      <td>29.8</td>\n",
       "      <td>8.3</td>\n",
       "      <td>10.1</td>\n",
       "      <td>7.8</td>\n",
       "      <td>10.4</td>\n",
       "    </tr>\n",
       "    <tr>\n",
       "      <th>3</th>\n",
       "      <td>Butte</td>\n",
       "      <td>42971.0</td>\n",
       "      <td>219309.0</td>\n",
       "      <td>37.2</td>\n",
       "      <td>23431.0</td>\n",
       "      <td>42283.0</td>\n",
       "      <td>101633.0</td>\n",
       "      <td>77585.0</td>\n",
       "      <td>44366.0</td>\n",
       "      <td>223877.0</td>\n",
       "      <td>...</td>\n",
       "      <td>7.482993</td>\n",
       "      <td>6.68173</td>\n",
       "      <td>6.97495</td>\n",
       "      <td>4.388394</td>\n",
       "      <td>24.2</td>\n",
       "      <td>27.2</td>\n",
       "      <td>9.0</td>\n",
       "      <td>8.0</td>\n",
       "      <td>8.6</td>\n",
       "      <td>8.7</td>\n",
       "    </tr>\n",
       "    <tr>\n",
       "      <th>4</th>\n",
       "      <td>Calaveras</td>\n",
       "      <td>55256.0</td>\n",
       "      <td>45794.0</td>\n",
       "      <td>49.0</td>\n",
       "      <td>28667.0</td>\n",
       "      <td>3751.0</td>\n",
       "      <td>20270.0</td>\n",
       "      <td>17987.0</td>\n",
       "      <td>53502.0</td>\n",
       "      <td>44787.0</td>\n",
       "      <td>...</td>\n",
       "      <td>15.384615</td>\n",
       "      <td>5.75692</td>\n",
       "      <td>6.62032</td>\n",
       "      <td>14.997581</td>\n",
       "      <td>23.9</td>\n",
       "      <td>30.4</td>\n",
       "      <td>7.6</td>\n",
       "      <td>7.9</td>\n",
       "      <td>7.4</td>\n",
       "      <td>8.3</td>\n",
       "    </tr>\n",
       "  </tbody>\n",
       "</table>\n",
       "<p>5 rows × 27 columns</p>\n",
       "</div>"
      ],
      "text/plain": [
       "      County  Household Income 2011  Population 2011  Median Age 2011  \\\n",
       "0    Alameda                70821.0        1494876.0             36.4   \n",
       "1     Alpine                59018.0           1167.0             40.4   \n",
       "2     Amador                56180.0          38244.0             48.0   \n",
       "3      Butte                42971.0         219309.0             37.2   \n",
       "4  Calaveras                55256.0          45794.0             49.0   \n",
       "\n",
       "   Per Capita Income 2011  Poverty Count 2011  Employed Persons Over 16 2011  \\\n",
       "0                 34937.0            173156.0                       792734.0   \n",
       "1                 29576.0               170.0                          581.0   \n",
       "2                 28030.0              3372.0                        15650.0   \n",
       "3                 23431.0             42283.0                       101633.0   \n",
       "4                 28667.0              3751.0                        20270.0   \n",
       "\n",
       "   Unemployed Persons Over 16 2011  Household Income 2016  Population 2016  \\\n",
       "0                         401593.0                79831.0        1605217.0   \n",
       "1                            351.0                62375.0           1184.0   \n",
       "2                          17192.0                57032.0          36963.0   \n",
       "3                          77585.0                44366.0         223877.0   \n",
       "4                          17987.0                53502.0          44787.0   \n",
       "\n",
       "   ...  Fast-food restaurants (% change), 2011-16  \\\n",
       "0  ...                                  18.623853   \n",
       "1  ...                                -100.000000   \n",
       "2  ...                                  75.000000   \n",
       "3  ...                                   7.482993   \n",
       "4  ...                                  15.384615   \n",
       "\n",
       "   Fast-food restaurants/10,000 pop, 2011  \\\n",
       "0                                 7.11388   \n",
       "1                                18.29826   \n",
       "2                                 3.19668   \n",
       "3                                 6.68173   \n",
       "4                                 5.75692   \n",
       "\n",
       "   Fast-food restaurants/10,000 pop, 2016  \\\n",
       "0                                 7.82102   \n",
       "1                                 0.00000   \n",
       "2                                 5.60403   \n",
       "3                                 6.97495   \n",
       "4                                 6.62032   \n",
       "\n",
       "   Fast-food restaurants/1,000 pop (% change), 2011-16  Obesity 2011 %  \\\n",
       "0                                           9.940291              20.2   \n",
       "1                                        -100.000000              22.6   \n",
       "2                                          75.308222              24.8   \n",
       "3                                           4.388394              24.2   \n",
       "4                                          14.997581              23.9   \n",
       "\n",
       "   Obesity 2016 %  New Diabetes per 1k : 2011  New Diabetes per 1k : 2016  \\\n",
       "0            19.2                         7.3                         5.6   \n",
       "1            20.9                         8.4                         4.1   \n",
       "2            29.8                         8.3                        10.1   \n",
       "3            27.2                         9.0                         8.0   \n",
       "4            30.4                         7.6                         7.9   \n",
       "\n",
       "   Diagnosed Diabetes 2011 %  Diagnosed Diabetes 2016 %  \n",
       "0                        7.7                        6.7  \n",
       "1                        8.0                        4.6  \n",
       "2                        7.8                       10.4  \n",
       "3                        8.6                        8.7  \n",
       "4                        7.4                        8.3  \n",
       "\n",
       "[5 rows x 27 columns]"
      ]
     },
     "execution_count": 2,
     "metadata": {},
     "output_type": "execute_result"
    }
   ],
   "source": [
    "big_df = pd.read_csv('census_health_ff_2011_2016.csv')\n",
    "big_df.head()"
   ]
  },
  {
   "cell_type": "code",
   "execution_count": 3,
   "metadata": {},
   "outputs": [
    {
     "data": {
      "text/plain": [
       "Index(['County', 'Household Income 2011', 'Population 2011', 'Median Age 2011',\n",
       "       'Per Capita Income 2011', 'Poverty Count 2011',\n",
       "       'Employed Persons Over 16 2011', 'Unemployed Persons Over 16 2011',\n",
       "       'Household Income 2016', 'Population 2016', 'Median Age 2016',\n",
       "       'Per Capita Income 2016', 'Poverty Count 2016',\n",
       "       'Employed Persons Over 16 2016', 'Unemployed Persons Over 16 2016',\n",
       "       'Fast-food restaurants, 2011', 'Fast-food restaurants, 2016',\n",
       "       'Fast-food restaurants (% change), 2011-16',\n",
       "       'Fast-food restaurants/10,000 pop, 2011',\n",
       "       'Fast-food restaurants/10,000 pop, 2016',\n",
       "       'Fast-food restaurants/1,000 pop (% change), 2011-16', 'Obesity 2011 %',\n",
       "       'Obesity 2016 %', 'New Diabetes per 1k : 2011',\n",
       "       'New Diabetes per 1k : 2016', 'Diagnosed Diabetes 2011 %',\n",
       "       'Diagnosed Diabetes 2016 %'],\n",
       "      dtype='object')"
      ]
     },
     "execution_count": 3,
     "metadata": {},
     "output_type": "execute_result"
    }
   ],
   "source": [
    "big_df.columns"
   ]
  },
  {
   "cell_type": "code",
   "execution_count": 4,
   "metadata": {},
   "outputs": [
    {
     "data": {
      "text/html": [
       "<div>\n",
       "<style scoped>\n",
       "    .dataframe tbody tr th:only-of-type {\n",
       "        vertical-align: middle;\n",
       "    }\n",
       "\n",
       "    .dataframe tbody tr th {\n",
       "        vertical-align: top;\n",
       "    }\n",
       "\n",
       "    .dataframe thead th {\n",
       "        text-align: right;\n",
       "    }\n",
       "</style>\n",
       "<table border=\"1\" class=\"dataframe\">\n",
       "  <thead>\n",
       "    <tr style=\"text-align: right;\">\n",
       "      <th></th>\n",
       "      <th>County</th>\n",
       "      <th>Per Capita Income 2011</th>\n",
       "      <th>Per Capita Income 2016</th>\n",
       "    </tr>\n",
       "  </thead>\n",
       "  <tbody>\n",
       "    <tr>\n",
       "      <th>0</th>\n",
       "      <td>Alameda</td>\n",
       "      <td>34937.0</td>\n",
       "      <td>39042.0</td>\n",
       "    </tr>\n",
       "    <tr>\n",
       "      <th>1</th>\n",
       "      <td>Alpine</td>\n",
       "      <td>29576.0</td>\n",
       "      <td>26783.0</td>\n",
       "    </tr>\n",
       "    <tr>\n",
       "      <th>2</th>\n",
       "      <td>Amador</td>\n",
       "      <td>28030.0</td>\n",
       "      <td>27496.0</td>\n",
       "    </tr>\n",
       "    <tr>\n",
       "      <th>3</th>\n",
       "      <td>Butte</td>\n",
       "      <td>23431.0</td>\n",
       "      <td>25077.0</td>\n",
       "    </tr>\n",
       "    <tr>\n",
       "      <th>4</th>\n",
       "      <td>Calaveras</td>\n",
       "      <td>28667.0</td>\n",
       "      <td>30577.0</td>\n",
       "    </tr>\n",
       "  </tbody>\n",
       "</table>\n",
       "</div>"
      ],
      "text/plain": [
       "      County  Per Capita Income 2011  Per Capita Income 2016\n",
       "0    Alameda                 34937.0                 39042.0\n",
       "1     Alpine                 29576.0                 26783.0\n",
       "2     Amador                 28030.0                 27496.0\n",
       "3      Butte                 23431.0                 25077.0\n",
       "4  Calaveras                 28667.0                 30577.0"
      ]
     },
     "execution_count": 4,
     "metadata": {},
     "output_type": "execute_result"
    }
   ],
   "source": [
    "income_df = big_df[['County','Per Capita Income 2011','Per Capita Income 2016']]\n",
    "income_df.head()"
   ]
  },
  {
   "cell_type": "code",
   "execution_count": 5,
   "metadata": {},
   "outputs": [
    {
     "data": {
      "text/html": [
       "<div>\n",
       "<style scoped>\n",
       "    .dataframe tbody tr th:only-of-type {\n",
       "        vertical-align: middle;\n",
       "    }\n",
       "\n",
       "    .dataframe tbody tr th {\n",
       "        vertical-align: top;\n",
       "    }\n",
       "\n",
       "    .dataframe thead th {\n",
       "        text-align: right;\n",
       "    }\n",
       "</style>\n",
       "<table border=\"1\" class=\"dataframe\">\n",
       "  <thead>\n",
       "    <tr style=\"text-align: right;\">\n",
       "      <th></th>\n",
       "      <th>County</th>\n",
       "      <th>CountyFIPS</th>\n",
       "    </tr>\n",
       "  </thead>\n",
       "  <tbody>\n",
       "    <tr>\n",
       "      <th>0</th>\n",
       "      <td>Alameda</td>\n",
       "      <td>6001</td>\n",
       "    </tr>\n",
       "  </tbody>\n",
       "</table>\n",
       "</div>"
      ],
      "text/plain": [
       "    County  CountyFIPS\n",
       "0  Alameda        6001"
      ]
     },
     "execution_count": 5,
     "metadata": {},
     "output_type": "execute_result"
    }
   ],
   "source": [
    "fips_df = pd.read_csv('fips.csv')\n",
    "fips_df.head(1)"
   ]
  },
  {
   "cell_type": "code",
   "execution_count": 6,
   "metadata": {},
   "outputs": [
    {
     "data": {
      "text/html": [
       "<div>\n",
       "<style scoped>\n",
       "    .dataframe tbody tr th:only-of-type {\n",
       "        vertical-align: middle;\n",
       "    }\n",
       "\n",
       "    .dataframe tbody tr th {\n",
       "        vertical-align: top;\n",
       "    }\n",
       "\n",
       "    .dataframe thead th {\n",
       "        text-align: right;\n",
       "    }\n",
       "</style>\n",
       "<table border=\"1\" class=\"dataframe\">\n",
       "  <thead>\n",
       "    <tr style=\"text-align: right;\">\n",
       "      <th></th>\n",
       "      <th>County</th>\n",
       "      <th>CountyFIPS</th>\n",
       "      <th>Per Capita Income 2011</th>\n",
       "      <th>Per Capita Income 2016</th>\n",
       "    </tr>\n",
       "  </thead>\n",
       "  <tbody>\n",
       "    <tr>\n",
       "      <th>0</th>\n",
       "      <td>Alameda</td>\n",
       "      <td>6001</td>\n",
       "      <td>34937.0</td>\n",
       "      <td>39042.0</td>\n",
       "    </tr>\n",
       "    <tr>\n",
       "      <th>1</th>\n",
       "      <td>Alpine</td>\n",
       "      <td>6003</td>\n",
       "      <td>29576.0</td>\n",
       "      <td>26783.0</td>\n",
       "    </tr>\n",
       "    <tr>\n",
       "      <th>2</th>\n",
       "      <td>Amador</td>\n",
       "      <td>6005</td>\n",
       "      <td>28030.0</td>\n",
       "      <td>27496.0</td>\n",
       "    </tr>\n",
       "    <tr>\n",
       "      <th>3</th>\n",
       "      <td>Butte</td>\n",
       "      <td>6007</td>\n",
       "      <td>23431.0</td>\n",
       "      <td>25077.0</td>\n",
       "    </tr>\n",
       "    <tr>\n",
       "      <th>4</th>\n",
       "      <td>Calaveras</td>\n",
       "      <td>6009</td>\n",
       "      <td>28667.0</td>\n",
       "      <td>30577.0</td>\n",
       "    </tr>\n",
       "  </tbody>\n",
       "</table>\n",
       "</div>"
      ],
      "text/plain": [
       "      County  CountyFIPS  Per Capita Income 2011  Per Capita Income 2016\n",
       "0    Alameda        6001                 34937.0                 39042.0\n",
       "1     Alpine        6003                 29576.0                 26783.0\n",
       "2     Amador        6005                 28030.0                 27496.0\n",
       "3      Butte        6007                 23431.0                 25077.0\n",
       "4  Calaveras        6009                 28667.0                 30577.0"
      ]
     },
     "execution_count": 6,
     "metadata": {},
     "output_type": "execute_result"
    }
   ],
   "source": [
    "fips_per_capita_df = pd.merge(fips_df, income_df, how='outer', on='County')\n",
    "fips_per_capita_df.head()"
   ]
  },
  {
   "cell_type": "code",
   "execution_count": 7,
   "metadata": {},
   "outputs": [],
   "source": [
    "fips_per_capita_df['Income Percent Change'] = ((fips_per_capita_df['Per Capita Income 2016'] - fips_per_capita_df['Per Capita Income 2011'])/fips_per_capita_df['Per Capita Income 2011'])* 100"
   ]
  },
  {
   "cell_type": "code",
   "execution_count": 8,
   "metadata": {},
   "outputs": [
    {
     "data": {
      "text/html": [
       "<div>\n",
       "<style scoped>\n",
       "    .dataframe tbody tr th:only-of-type {\n",
       "        vertical-align: middle;\n",
       "    }\n",
       "\n",
       "    .dataframe tbody tr th {\n",
       "        vertical-align: top;\n",
       "    }\n",
       "\n",
       "    .dataframe thead th {\n",
       "        text-align: right;\n",
       "    }\n",
       "</style>\n",
       "<table border=\"1\" class=\"dataframe\">\n",
       "  <thead>\n",
       "    <tr style=\"text-align: right;\">\n",
       "      <th></th>\n",
       "      <th>County</th>\n",
       "      <th>CountyFIPS</th>\n",
       "      <th>Per Capita Income 2011</th>\n",
       "      <th>Per Capita Income 2016</th>\n",
       "      <th>Income Percent Change</th>\n",
       "    </tr>\n",
       "  </thead>\n",
       "  <tbody>\n",
       "    <tr>\n",
       "      <th>0</th>\n",
       "      <td>Alameda</td>\n",
       "      <td>6001</td>\n",
       "      <td>34937.0</td>\n",
       "      <td>39042.0</td>\n",
       "      <td>11.749721</td>\n",
       "    </tr>\n",
       "    <tr>\n",
       "      <th>1</th>\n",
       "      <td>Alpine</td>\n",
       "      <td>6003</td>\n",
       "      <td>29576.0</td>\n",
       "      <td>26783.0</td>\n",
       "      <td>-9.443468</td>\n",
       "    </tr>\n",
       "    <tr>\n",
       "      <th>2</th>\n",
       "      <td>Amador</td>\n",
       "      <td>6005</td>\n",
       "      <td>28030.0</td>\n",
       "      <td>27496.0</td>\n",
       "      <td>-1.905102</td>\n",
       "    </tr>\n",
       "    <tr>\n",
       "      <th>3</th>\n",
       "      <td>Butte</td>\n",
       "      <td>6007</td>\n",
       "      <td>23431.0</td>\n",
       "      <td>25077.0</td>\n",
       "      <td>7.024882</td>\n",
       "    </tr>\n",
       "    <tr>\n",
       "      <th>4</th>\n",
       "      <td>Calaveras</td>\n",
       "      <td>6009</td>\n",
       "      <td>28667.0</td>\n",
       "      <td>30577.0</td>\n",
       "      <td>6.662713</td>\n",
       "    </tr>\n",
       "  </tbody>\n",
       "</table>\n",
       "</div>"
      ],
      "text/plain": [
       "      County  CountyFIPS  Per Capita Income 2011  Per Capita Income 2016  \\\n",
       "0    Alameda        6001                 34937.0                 39042.0   \n",
       "1     Alpine        6003                 29576.0                 26783.0   \n",
       "2     Amador        6005                 28030.0                 27496.0   \n",
       "3      Butte        6007                 23431.0                 25077.0   \n",
       "4  Calaveras        6009                 28667.0                 30577.0   \n",
       "\n",
       "   Income Percent Change  \n",
       "0              11.749721  \n",
       "1              -9.443468  \n",
       "2              -1.905102  \n",
       "3               7.024882  \n",
       "4               6.662713  "
      ]
     },
     "execution_count": 8,
     "metadata": {},
     "output_type": "execute_result"
    }
   ],
   "source": [
    "fips_per_capita_df.head()"
   ]
  },
  {
   "cell_type": "code",
   "execution_count": 9,
   "metadata": {},
   "outputs": [],
   "source": [
    "fips_per_capita_df['Income Percent Change'] = fips_per_capita_df['Income Percent Change'].map(\"{:.2f}\".format)\n"
   ]
  },
  {
   "cell_type": "code",
   "execution_count": 12,
   "metadata": {},
   "outputs": [],
   "source": [
    "fips_per_capita_df = fips_per_capita_df.astype({\"Income Percent Change\": float})"
   ]
  },
  {
   "cell_type": "code",
   "execution_count": 13,
   "metadata": {},
   "outputs": [
    {
     "data": {
      "text/plain": [
       "(array([ 5., 32., 17.,  4.]),\n",
       " array([-9.44  , -1.5925,  6.255 , 14.1025, 21.95  ]),\n",
       " <a list of 4 Patch objects>)"
      ]
     },
     "execution_count": 13,
     "metadata": {},
     "output_type": "execute_result"
    },
    {
     "data": {
      "image/png": "[encoded data removed]",
      "text/plain": [
       "<Figure size 432x288 with 1 Axes>"
      ]
     },
     "metadata": {
      "needs_background": "light"
     },
     "output_type": "display_data"
    }
   ],
   "source": [
    "plt.hist(fips_per_capita_df['Income Percent Change'], bins=4)"
   ]
  },
  {
   "cell_type": "code",
   "execution_count": 6,
   "metadata": {},
   "outputs": [],
   "source": [
    "fips_per_capita_df['Income Change'] = fips_per_capita_df['Per Capita Income 2016'] - fips_per_capita_df['Per Capita Income 2011']"
   ]
  },
  {
   "cell_type": "code",
   "execution_count": null,
   "metadata": {},
   "outputs": [],
   "source": []
  },
  {
   "cell_type": "code",
   "execution_count": 17,
   "metadata": {
    "scrolled": false
   },
   "outputs": [
    {
     "data": {
      "text/html": [
       "<div>\n",
       "<style scoped>\n",
       "    .dataframe tbody tr th:only-of-type {\n",
       "        vertical-align: middle;\n",
       "    }\n",
       "\n",
       "    .dataframe tbody tr th {\n",
       "        vertical-align: top;\n",
       "    }\n",
       "\n",
       "    .dataframe thead th {\n",
       "        text-align: right;\n",
       "    }\n",
       "</style>\n",
       "<table border=\"1\" class=\"dataframe\">\n",
       "  <thead>\n",
       "    <tr style=\"text-align: right;\">\n",
       "      <th></th>\n",
       "      <th>County</th>\n",
       "      <th>CountyFIPS</th>\n",
       "      <th>Per Capita Income 2011</th>\n",
       "      <th>Per Capita Income 2016</th>\n",
       "      <th>Income Change</th>\n",
       "    </tr>\n",
       "  </thead>\n",
       "  <tbody>\n",
       "    <tr>\n",
       "      <th>0</th>\n",
       "      <td>Alameda</td>\n",
       "      <td>6001</td>\n",
       "      <td>34937.0</td>\n",
       "      <td>39042.0</td>\n",
       "      <td>4105.0</td>\n",
       "    </tr>\n",
       "    <tr>\n",
       "      <th>1</th>\n",
       "      <td>Alpine</td>\n",
       "      <td>6003</td>\n",
       "      <td>29576.0</td>\n",
       "      <td>26783.0</td>\n",
       "      <td>-2793.0</td>\n",
       "    </tr>\n",
       "    <tr>\n",
       "      <th>2</th>\n",
       "      <td>Amador</td>\n",
       "      <td>6005</td>\n",
       "      <td>28030.0</td>\n",
       "      <td>27496.0</td>\n",
       "      <td>-534.0</td>\n",
       "    </tr>\n",
       "    <tr>\n",
       "      <th>3</th>\n",
       "      <td>Butte</td>\n",
       "      <td>6007</td>\n",
       "      <td>23431.0</td>\n",
       "      <td>25077.0</td>\n",
       "      <td>1646.0</td>\n",
       "    </tr>\n",
       "    <tr>\n",
       "      <th>4</th>\n",
       "      <td>Calaveras</td>\n",
       "      <td>6009</td>\n",
       "      <td>28667.0</td>\n",
       "      <td>30577.0</td>\n",
       "      <td>1910.0</td>\n",
       "    </tr>\n",
       "  </tbody>\n",
       "</table>\n",
       "</div>"
      ],
      "text/plain": [
       "      County  CountyFIPS  Per Capita Income 2011  Per Capita Income 2016  \\\n",
       "0    Alameda        6001                 34937.0                 39042.0   \n",
       "1     Alpine        6003                 29576.0                 26783.0   \n",
       "2     Amador        6005                 28030.0                 27496.0   \n",
       "3      Butte        6007                 23431.0                 25077.0   \n",
       "4  Calaveras        6009                 28667.0                 30577.0   \n",
       "\n",
       "   Income Change  \n",
       "0         4105.0  \n",
       "1        -2793.0  \n",
       "2         -534.0  \n",
       "3         1646.0  \n",
       "4         1910.0  "
      ]
     },
     "execution_count": 17,
     "metadata": {},
     "output_type": "execute_result"
    }
   ],
   "source": [
    "fips_per_capita_df.head()"
   ]
  },
  {
   "cell_type": "code",
   "execution_count": 14,
   "metadata": {},
   "outputs": [],
   "source": [
    "fips_per_capita_df.to_csv('per_capita.csv', encoding=\"utf-8\", index=False, header=True)"
   ]
  },
  {
   "cell_type": "code",
   "execution_count": 21,
   "metadata": {},
   "outputs": [
    {
     "data": {
      "text/plain": [
       "(array([28., 25.,  2.,  3.]),\n",
       " array([16593., 26096., 35599., 45102., 54605.]),\n",
       " <BarContainer object of 4 artists>)"
      ]
     },
     "execution_count": 21,
     "metadata": {},
     "output_type": "execute_result"
    },
    {
     "data": {
      "image/png": "[encoded data removed]",
      "text/plain": [
       "<Figure size 432x288 with 1 Axes>"
      ]
     },
     "metadata": {
      "needs_background": "light"
     },
     "output_type": "display_data"
    }
   ],
   "source": [
    "plt.hist(fips_per_capita_df['Per Capita Income 2011'], bins=4)"
   ]
  },
  {
   "cell_type": "code",
   "execution_count": 22,
   "metadata": {
    "scrolled": false
   },
   "outputs": [
    {
     "data": {
      "text/plain": [
       "(array([31., 22.,  3.,  2.]),\n",
       " array([16311.  , 28135.25, 39959.5 , 51783.75, 63608.  ]),\n",
       " <BarContainer object of 4 artists>)"
      ]
     },
     "execution_count": 22,
     "metadata": {},
     "output_type": "execute_result"
    },
    {
     "data": {
      "image/png": "[encoded data removed]",
      "text/plain": [
       "<Figure size 432x288 with 1 Axes>"
      ]
     },
     "metadata": {
      "needs_background": "light"
     },
     "output_type": "display_data"
    }
   ],
   "source": [
    "plt.hist(fips_per_capita_df['Per Capita Income 2016'], bins=4)"
   ]
  },
  {
   "cell_type": "code",
   "execution_count": 23,
   "metadata": {},
   "outputs": [
    {
     "data": {
      "text/plain": [
       "(array([ 9., 40.,  7.,  2.]),\n",
       " array([-2793.,   156.,  3105.,  6054.,  9003.]),\n",
       " <BarContainer object of 4 artists>)"
      ]
     },
     "execution_count": 23,
     "metadata": {},
     "output_type": "execute_result"
    },
    {
     "data": {
      "image/png": "[encoded data removed]",
      "text/plain": [
       "<Figure size 432x288 with 1 Axes>"
      ]
     },
     "metadata": {
      "needs_background": "light"
     },
     "output_type": "display_data"
    }
   ],
   "source": [
    "plt.hist(fips_per_capita_df['Income Change'], bins=4)"
   ]
  },
  {
   "cell_type": "code",
   "execution_count": null,
   "metadata": {},
   "outputs": [],
   "source": []
  }
 ],
 "metadata": {
  "anaconda-cloud": {},
  "kernelspec": {
   "display_name": "Python 3",
   "language": "python",
   "name": "python3"
  },
  "language_info": {
   "codemirror_mode": {
    "name": "ipython",
    "version": 3
   },
   "file_extension": ".py",
   "mimetype": "text/x-python",
   "name": "python",
   "nbconvert_exporter": "python",
   "pygments_lexer": "ipython3",
   "version": "3.8.5"
  },
  "latex_envs": {
   "LaTeX_envs_menu_present": true,
   "autoclose": false,
   "autocomplete": true,
   "bibliofile": "biblio.bib",
   "cite_by": "apalike",
   "current_citInitial": 1,
   "eqLabelWithNumbers": true,
   "eqNumInitial": 1,
   "hotkeys": {
    "equation": "Ctrl-E",
    "itemize": "Ctrl-I"
   },
   "labels_anchors": false,
   "latex_user_defs": false,
   "report_style_numbering": false,
   "user_envs_cfg": false
  }
 },
 "nbformat": 4,
 "nbformat_minor": 1
}
