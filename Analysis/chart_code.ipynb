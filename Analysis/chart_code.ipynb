{
 "cells": [
  {
   "cell_type": "code",
   "execution_count": 2,
   "metadata": {},
   "outputs": [],
   "source": [
    "import matplotlib.pyplot as plt\n",
    "from scipy import stats\n",
    "import pandas as pd\n",
    "import numpy as np"
   ]
  },
  {
   "cell_type": "code",
   "execution_count": 6,
   "metadata": {},
   "outputs": [
    {
     "data": {
      "text/html": [
       "<div>\n",
       "<style scoped>\n",
       "    .dataframe tbody tr th:only-of-type {\n",
       "        vertical-align: middle;\n",
       "    }\n",
       "\n",
       "    .dataframe tbody tr th {\n",
       "        vertical-align: top;\n",
       "    }\n",
       "\n",
       "    .dataframe thead th {\n",
       "        text-align: right;\n",
       "    }\n",
       "</style>\n",
       "<table border=\"1\" class=\"dataframe\">\n",
       "  <thead>\n",
       "    <tr style=\"text-align: right;\">\n",
       "      <th></th>\n",
       "      <th>County</th>\n",
       "      <th>Fast-food restaurants, 2011</th>\n",
       "      <th>Fast-food restaurants, 2016</th>\n",
       "      <th>Fast-food restaurants (% change), 2011-16</th>\n",
       "      <th>Fast-food restaurants/10,000 pop, 2011</th>\n",
       "      <th>Fast-food restaurants/10,000 pop, 2016</th>\n",
       "      <th>Fast-food restaurants/1,000 pop (% change), 2011-16</th>\n",
       "      <th>Obesity 2011 %</th>\n",
       "      <th>Obesity 2016 %</th>\n",
       "      <th>New Diabetes per 1k : 2011</th>\n",
       "      <th>New Diabetes per 1k : 2016</th>\n",
       "      <th>Diagnosed Diabetes 2011 %</th>\n",
       "    </tr>\n",
       "  </thead>\n",
       "  <tbody>\n",
       "    <tr>\n",
       "      <th>0</th>\n",
       "      <td>Alameda</td>\n",
       "      <td>1090</td>\n",
       "      <td>1293</td>\n",
       "      <td>18.623853</td>\n",
       "      <td>7.11388</td>\n",
       "      <td>7.82102</td>\n",
       "      <td>9.940291</td>\n",
       "      <td>20.2</td>\n",
       "      <td>19.2</td>\n",
       "      <td>7.3</td>\n",
       "      <td>5.6</td>\n",
       "      <td>6.7</td>\n",
       "    </tr>\n",
       "    <tr>\n",
       "      <th>1</th>\n",
       "      <td>Alpine</td>\n",
       "      <td>2</td>\n",
       "      <td>0</td>\n",
       "      <td>-100.000000</td>\n",
       "      <td>18.29826</td>\n",
       "      <td>0.00000</td>\n",
       "      <td>-100.000000</td>\n",
       "      <td>22.6</td>\n",
       "      <td>20.9</td>\n",
       "      <td>8.4</td>\n",
       "      <td>4.1</td>\n",
       "      <td>4.6</td>\n",
       "    </tr>\n",
       "    <tr>\n",
       "      <th>2</th>\n",
       "      <td>Amador</td>\n",
       "      <td>12</td>\n",
       "      <td>21</td>\n",
       "      <td>75.000000</td>\n",
       "      <td>3.19668</td>\n",
       "      <td>5.60403</td>\n",
       "      <td>75.308222</td>\n",
       "      <td>24.8</td>\n",
       "      <td>29.8</td>\n",
       "      <td>8.3</td>\n",
       "      <td>10.1</td>\n",
       "      <td>10.4</td>\n",
       "    </tr>\n",
       "    <tr>\n",
       "      <th>3</th>\n",
       "      <td>Butte</td>\n",
       "      <td>147</td>\n",
       "      <td>158</td>\n",
       "      <td>7.482993</td>\n",
       "      <td>6.68173</td>\n",
       "      <td>6.97495</td>\n",
       "      <td>4.388394</td>\n",
       "      <td>24.2</td>\n",
       "      <td>27.2</td>\n",
       "      <td>9.0</td>\n",
       "      <td>8.0</td>\n",
       "      <td>8.7</td>\n",
       "    </tr>\n",
       "    <tr>\n",
       "      <th>4</th>\n",
       "      <td>Calaveras</td>\n",
       "      <td>26</td>\n",
       "      <td>30</td>\n",
       "      <td>15.384615</td>\n",
       "      <td>5.75692</td>\n",
       "      <td>6.62032</td>\n",
       "      <td>14.997581</td>\n",
       "      <td>23.9</td>\n",
       "      <td>30.4</td>\n",
       "      <td>7.6</td>\n",
       "      <td>7.9</td>\n",
       "      <td>8.3</td>\n",
       "    </tr>\n",
       "  </tbody>\n",
       "</table>\n",
       "</div>"
      ],
      "text/plain": [
       "      County  Fast-food restaurants, 2011  Fast-food restaurants, 2016  \\\n",
       "0    Alameda                         1090                         1293   \n",
       "1     Alpine                            2                            0   \n",
       "2     Amador                           12                           21   \n",
       "3      Butte                          147                          158   \n",
       "4  Calaveras                           26                           30   \n",
       "\n",
       "   Fast-food restaurants (% change), 2011-16  \\\n",
       "0                                  18.623853   \n",
       "1                                -100.000000   \n",
       "2                                  75.000000   \n",
       "3                                   7.482993   \n",
       "4                                  15.384615   \n",
       "\n",
       "   Fast-food restaurants/10,000 pop, 2011  \\\n",
       "0                                 7.11388   \n",
       "1                                18.29826   \n",
       "2                                 3.19668   \n",
       "3                                 6.68173   \n",
       "4                                 5.75692   \n",
       "\n",
       "   Fast-food restaurants/10,000 pop, 2016  \\\n",
       "0                                 7.82102   \n",
       "1                                 0.00000   \n",
       "2                                 5.60403   \n",
       "3                                 6.97495   \n",
       "4                                 6.62032   \n",
       "\n",
       "   Fast-food restaurants/1,000 pop (% change), 2011-16  Obesity 2011 %  \\\n",
       "0                                           9.940291              20.2   \n",
       "1                                        -100.000000              22.6   \n",
       "2                                          75.308222              24.8   \n",
       "3                                           4.388394              24.2   \n",
       "4                                          14.997581              23.9   \n",
       "\n",
       "   Obesity 2016 %  New Diabetes per 1k : 2011  New Diabetes per 1k : 2016  \\\n",
       "0            19.2                         7.3                         5.6   \n",
       "1            20.9                         8.4                         4.1   \n",
       "2            29.8                         8.3                        10.1   \n",
       "3            27.2                         9.0                         8.0   \n",
       "4            30.4                         7.6                         7.9   \n",
       "\n",
       "   Diagnosed Diabetes 2011 %  \n",
       "0                        6.7  \n",
       "1                        4.6  \n",
       "2                       10.4  \n",
       "3                        8.7  \n",
       "4                        8.3  "
      ]
     },
     "execution_count": 6,
     "metadata": {},
     "output_type": "execute_result"
    }
   ],
   "source": [
    "big_df = pd.read_csv(\"data/big_df.csv\")\n",
    "census_2011 = pd.read_csv(\"data/census_data_2011.csv\")\n",
    "census_2016 = pd.read_csv(\"data/census_data_2016.csv\")\n",
    "big_df.head()"
   ]
  },
  {
   "cell_type": "code",
   "execution_count": 17,
   "metadata": {},
   "outputs": [
    {
     "data": {
      "image/png": "[encoded data removed]",
      "text/plain": [
       "<Figure size 432x288 with 1 Axes>"
      ]
     },
     "metadata": {
      "needs_background": "light"
     },
     "output_type": "display_data"
    }
   ],
   "source": [
    "plt.scatter(big_df[\"Fast-food restaurants/10,000 pop, 2011\"], big_df[\"Obesity 2011 %\"])\n",
    "plt.title(\"Fast Food restaurants/10,000 pop vs Obesity Rate 2011\")\n",
    "plt.xlabel(\"Fast Food restaurants/10,000 pop\")\n",
    "plt.ylabel(\"Obesity Rate\")\n",
    "plt.grid(True)\n",
    "#plt.savefig(\"charts/food_obesity_2011.png\")\n",
    "#plt.show()\n",
    "\n",
    "(vc_slope, vc_int, vc_r, vc_p, vc_std_err) = stats.linregress(big_df[\"Fast-food restaurants/10,000 pop, 2011\"], big_df[\"Obesity 2011 %\"])\n",
    "linear_reg = vc_slope * big_df[\"Fast-food restaurants/10,000 pop, 2011\"] + vc_int\n",
    "plt.plot(big_df[\"Fast-food restaurants/10,000 pop, 2011\"],linear_reg,\"--\")\n",
    "plt.savefig(\"charts/food_obesity_2011.png\")\n",
    "plt.show()"
   ]
  },
  {
   "cell_type": "code",
   "execution_count": 18,
   "metadata": {},
   "outputs": [
    {
     "data": {
      "image/png": "[encoded data removed]",
      "text/plain": [
       "<Figure size 432x288 with 1 Axes>"
      ]
     },
     "metadata": {
      "needs_background": "light"
     },
     "output_type": "display_data"
    }
   ],
   "source": [
    "plt.scatter(big_df[\"Fast-food restaurants/10,000 pop, 2016\"], big_df[\"Obesity 2016 %\"])\n",
    "plt.title(\"Fast Food restaurants/10,000 pop vs Obesity Rate 2016\")\n",
    "plt.xlabel(\"Fast Food restaurants/10,000 pop\")\n",
    "plt.ylabel(\"Obesity Rate\")\n",
    "plt.grid(True)\n",
    "#plt.savefig(\"charts/food_obesity_2011.png\")\n",
    "#plt.show()\n",
    "\n",
    "(vc_slope, vc_int, vc_r, vc_p, vc_std_err) = stats.linregress(big_df[\"Fast-food restaurants/10,000 pop, 2011\"], big_df[\"Obesity 2016 %\"])\n",
    "linear_reg = vc_slope * big_df[\"Fast-food restaurants/10,000 pop, 2016\"] + vc_int\n",
    "plt.plot(big_df[\"Fast-food restaurants/10,000 pop, 2016\"],linear_reg,\"--\")\n",
    "plt.savefig(\"charts/food_obesity_2016.png\")\n",
    "plt.show()"
   ]
  },
  {
   "cell_type": "code",
   "execution_count": null,
   "metadata": {},
   "outputs": [],
   "source": []
  }
 ],
 "metadata": {
  "kernelspec": {
   "display_name": "Python 3",
   "language": "python",
   "name": "python3"
  },
  "language_info": {
   "codemirror_mode": {
    "name": "ipython",
    "version": 3
   },
   "file_extension": ".py",
   "mimetype": "text/x-python",
   "name": "python",
   "nbconvert_exporter": "python",
   "pygments_lexer": "ipython3",
   "version": "3.7.7"
  }
 },
 "nbformat": 4,
 "nbformat_minor": 4
}
